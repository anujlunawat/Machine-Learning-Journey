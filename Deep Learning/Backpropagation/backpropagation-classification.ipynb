{
 "cells": [
  {
   "cell_type": "code",
   "execution_count": 1,
   "id": "1dd93814-ce1e-4285-b8a1-a44d81475a19",
   "metadata": {},
   "outputs": [],
   "source": [
    "import numpy as np\n",
    "import pandas as pd"
   ]
  },
  {
   "cell_type": "code",
   "execution_count": 2,
   "id": "e1c78bf6-801e-4aba-82fb-07b9d2c6e3ca",
   "metadata": {},
   "outputs": [],
   "source": [
    "df = pd.DataFrame([[8,8,1], [7,9,1], [6,10,0], [5,5,0]], columns=['cgpa', 'profile_score', 'lpa'])"
   ]
  },
  {
   "cell_type": "code",
   "execution_count": 3,
   "id": "d0108003-8b83-4dcf-a3bb-3d79af064949",
   "metadata": {},
   "outputs": [
    {
     "data": {
      "text/html": [
       "<div>\n",
       "<style scoped>\n",
       "    .dataframe tbody tr th:only-of-type {\n",
       "        vertical-align: middle;\n",
       "    }\n",
       "\n",
       "    .dataframe tbody tr th {\n",
       "        vertical-align: top;\n",
       "    }\n",
       "\n",
       "    .dataframe thead th {\n",
       "        text-align: right;\n",
       "    }\n",
       "</style>\n",
       "<table border=\"1\" class=\"dataframe\">\n",
       "  <thead>\n",
       "    <tr style=\"text-align: right;\">\n",
       "      <th></th>\n",
       "      <th>cgpa</th>\n",
       "      <th>profile_score</th>\n",
       "      <th>lpa</th>\n",
       "    </tr>\n",
       "  </thead>\n",
       "  <tbody>\n",
       "    <tr>\n",
       "      <th>0</th>\n",
       "      <td>8</td>\n",
       "      <td>8</td>\n",
       "      <td>1</td>\n",
       "    </tr>\n",
       "    <tr>\n",
       "      <th>1</th>\n",
       "      <td>7</td>\n",
       "      <td>9</td>\n",
       "      <td>1</td>\n",
       "    </tr>\n",
       "    <tr>\n",
       "      <th>2</th>\n",
       "      <td>6</td>\n",
       "      <td>10</td>\n",
       "      <td>0</td>\n",
       "    </tr>\n",
       "    <tr>\n",
       "      <th>3</th>\n",
       "      <td>5</td>\n",
       "      <td>5</td>\n",
       "      <td>0</td>\n",
       "    </tr>\n",
       "  </tbody>\n",
       "</table>\n",
       "</div>"
      ],
      "text/plain": [
       "   cgpa  profile_score  lpa\n",
       "0     8              8    1\n",
       "1     7              9    1\n",
       "2     6             10    0\n",
       "3     5              5    0"
      ]
     },
     "execution_count": 3,
     "metadata": {},
     "output_type": "execute_result"
    }
   ],
   "source": [
    "df"
   ]
  },
  {
   "cell_type": "code",
   "execution_count": 4,
   "id": "388d31c8-980d-4e3d-a46d-ee8a691b2d58",
   "metadata": {},
   "outputs": [],
   "source": [
    "def initialize_parameters(layer_dims):\n",
    "    np.random.seed(3)\n",
    "\n",
    "    parameters = {}\n",
    "    L = len(layer_dims)\n",
    "\n",
    "    for l in range(1, L):\n",
    "        # each col represens the weights associated with a node/neuron\n",
    "        # each row represents the weights for an input feature\n",
    "        parameters[\"W\" + str(l)] = np.ones((layer_dims[l-1], layer_dims[l])) * 0.1\n",
    "        # contains all the bias terms; one per neuron/node\n",
    "        parameters[\"b\" + str(l)] = np.zeros((layer_dims[l], 1)) \n",
    "\n",
    "    return parameters"
   ]
  },
  {
   "cell_type": "code",
   "execution_count": 5,
   "id": "6f276374-08fc-4a37-aa43-2f2aab45c25d",
   "metadata": {},
   "outputs": [
    {
     "data": {
      "text/plain": [
       "{'W1': array([[0.1, 0.1],\n",
       "        [0.1, 0.1]]),\n",
       " 'b1': array([[0.],\n",
       "        [0.]]),\n",
       " 'W2': array([[0.1],\n",
       "        [0.1]]),\n",
       " 'b2': array([[0.]])}"
      ]
     },
     "execution_count": 5,
     "metadata": {},
     "output_type": "execute_result"
    }
   ],
   "source": [
    "initialize_parameters([2,2,1])"
   ]
  },
  {
   "cell_type": "code",
   "execution_count": 6,
   "id": "a49da493-6ad8-436d-ae8b-96c6c4c855cf",
   "metadata": {},
   "outputs": [],
   "source": [
    "def linear_operation(A_prev, W, b):\n",
    "    Z = np.dot(W.T, A_prev) + b\n",
    "    return Z"
   ]
  },
  {
   "cell_type": "code",
   "execution_count": 7,
   "id": "6079406a-9eb9-4f5c-a2e9-fa196701a3e8",
   "metadata": {},
   "outputs": [],
   "source": [
    "def sigmoid(z):\n",
    "    return 1 / (1 + np.exp(-z))"
   ]
  },
  {
   "cell_type": "code",
   "execution_count": 8,
   "id": "14fef163-a754-4486-8c5a-f88fce7da446",
   "metadata": {},
   "outputs": [],
   "source": [
    "def L_layer_forward(X, parameters):\n",
    "    A = X\n",
    "    L = len(parameters) // 2\n",
    "\n",
    "    for l in range(1, L+1):\n",
    "        A_prev = A\n",
    "        W = parameters[\"W\" + str(l)]\n",
    "        b = parameters[\"b\" + str(l)]\n",
    "\n",
    "        A = sigmoid(linear_operation(A_prev, W, b))\n",
    "\n",
    "    return A, A_prev"
   ]
  },
  {
   "cell_type": "code",
   "execution_count": 9,
   "id": "76c95e0a-6e10-4202-87a9-bc95984b6a3b",
   "metadata": {},
   "outputs": [],
   "source": [
    "X = df[[\"cgpa\", \"profile_score\"]].values[0].reshape(2, 1) # Shape(num of features, number of training examples)\n",
    "y = df[\"lpa\"].values[0]\n",
    "\n",
    "parameters = initialize_parameters([2, 2, 1])\n",
    "y_hat, A1 = L_layer_forward(X, parameters)\n",
    "\n",
    "y_hat = y_hat[0][0]"
   ]
  },
  {
   "cell_type": "code",
   "execution_count": 10,
   "id": "a3ae497a-df54-4756-ab8d-e87bd4a4b3c7",
   "metadata": {},
   "outputs": [],
   "source": [
    "def update_parameters(parameters, y, y_hat, lr, A1, X):\n",
    "    t = lr * (y - y_hat)\n",
    "    parameters[\"W2\"][0][0] += (t * A1[0][0])\n",
    "    parameters[\"W2\"][1][0] += (t * A1[1][0])\n",
    "    parameters[\"b2\"][0][0] += (t)\n",
    "\n",
    "    parameters[\"W1\"][0][0] += (t * parameters[\"W2\"][0][0] * (A1[0][0] * (1 - A1[0][0])) * X[0][0])\n",
    "    parameters[\"W1\"][0][1] += (t * parameters[\"W2\"][0][0] * (A1[0][0] * (1 - A1[0][0])) * X[1][0])\n",
    "    parameters[\"b1\"][0][0] += (t * parameters[\"W2\"][0][0] * (A1[0][0] * (1 - A1[0][0])))\n",
    "\n",
    "    parameters[\"W1\"][1][0] += (t * parameters[\"W2\"][1][0] * (A1[1][0] * (1 - A1[1][0])) * X[0][0])\n",
    "    parameters[\"W1\"][1][1] += (t * parameters[\"W2\"][1][0] * (A1[1][0] * (1 - A1[1][0])) * X[1][0])\n",
    "    parameters[\"b1\"][1][0] += (t * parameters[\"W2\"][1][0] * (A1[1][0] * (1 - A1[1][0])))"
   ]
  },
  {
   "cell_type": "code",
   "execution_count": 11,
   "id": "9fd71bee-4b8d-47d9-bfdb-292931a526c8",
   "metadata": {},
   "outputs": [
    {
     "data": {
      "text/plain": [
       "{'W1': array([[0.1, 0.1],\n",
       "        [0.1, 0.1]]),\n",
       " 'b1': array([[0.],\n",
       "        [0.]]),\n",
       " 'W2': array([[0.1],\n",
       "        [0.1]]),\n",
       " 'b2': array([[0.]])}"
      ]
     },
     "execution_count": 11,
     "metadata": {},
     "output_type": "execute_result"
    }
   ],
   "source": [
    "parameters"
   ]
  },
  {
   "cell_type": "code",
   "execution_count": 12,
   "id": "5c0d39e6-a96a-418f-a1df-23a2c1b767c1",
   "metadata": {
    "scrolled": true
   },
   "outputs": [
    {
     "name": "stdout",
     "output_type": "stream",
     "text": [
      "Epoch -  1 Loss -  0.25038486077894856\n",
      "Epoch -  2 Loss -  0.25038437121254753\n",
      "Epoch -  3 Loss -  0.25038388186326344\n",
      "Epoch -  4 Loss -  0.25038339273099275\n",
      "Epoch -  5 Loss -  0.2503829038156321\n",
      "Epoch -  6 Loss -  0.2503824151170781\n",
      "Epoch -  7 Loss -  0.2503819266352273\n",
      "Epoch -  8 Loss -  0.25038143836997667\n",
      "Epoch -  9 Loss -  0.2503809503212228\n",
      "Epoch -  10 Loss -  0.2503804624888627\n",
      "Epoch -  11 Loss -  0.25037997487279307\n",
      "Epoch -  12 Loss -  0.250379487472911\n",
      "Epoch -  13 Loss -  0.2503790002891133\n",
      "Epoch -  14 Loss -  0.2503785133212972\n",
      "Epoch -  15 Loss -  0.2503780265693597\n",
      "Epoch -  16 Loss -  0.2503775400331979\n",
      "Epoch -  17 Loss -  0.25037705371270896\n",
      "Epoch -  18 Loss -  0.25037656760779015\n",
      "Epoch -  19 Loss -  0.2503760817183388\n",
      "Epoch -  20 Loss -  0.25037559604425225\n",
      "Epoch -  21 Loss -  0.25037511058542783\n",
      "Epoch -  22 Loss -  0.250374625341763\n",
      "Epoch -  23 Loss -  0.25037414031315525\n",
      "Epoch -  24 Loss -  0.25037365549950213\n",
      "Epoch -  25 Loss -  0.2503731709007012\n",
      "Epoch -  26 Loss -  0.25037268651665007\n",
      "Epoch -  27 Loss -  0.2503722023472465\n",
      "Epoch -  28 Loss -  0.25037171839238814\n",
      "Epoch -  29 Loss -  0.25037123465197275\n",
      "Epoch -  30 Loss -  0.25037075112589835\n",
      "Epoch -  31 Loss -  0.2503702678140627\n",
      "Epoch -  32 Loss -  0.2503697847163636\n",
      "Epoch -  33 Loss -  0.25036930183269934\n",
      "Epoch -  34 Loss -  0.2503688191629678\n",
      "Epoch -  35 Loss -  0.25036833670706693\n",
      "Epoch -  36 Loss -  0.250367854464895\n",
      "Epoch -  37 Loss -  0.25036737243635027\n",
      "Epoch -  38 Loss -  0.25036689062133083\n",
      "Epoch -  39 Loss -  0.25036640901973506\n",
      "Epoch -  40 Loss -  0.25036592763146126\n",
      "Epoch -  41 Loss -  0.2503654464564078\n",
      "Epoch -  42 Loss -  0.250364965494473\n",
      "Epoch -  43 Loss -  0.2503644847455556\n",
      "Epoch -  44 Loss -  0.2503640042095539\n",
      "Epoch -  45 Loss -  0.2503635238863666\n",
      "Epoch -  46 Loss -  0.25036304377589225\n",
      "Epoch -  47 Loss -  0.25036256387802963\n",
      "Epoch -  48 Loss -  0.2503620841926774\n",
      "Epoch -  49 Loss -  0.25036160471973434\n",
      "Epoch -  50 Loss -  0.2503611254590993\n",
      "{'W1': array([[0.09999042, 0.09990338],\n",
      "       [0.09999049, 0.0999034 ]]), 'b1': array([[-2.63694652e-05],\n",
      "       [-2.63678488e-05]]), 'W2': array([[0.09960344],\n",
      "       [0.09960349]]), 'b2': array([[-0.00080196]])}\n"
     ]
    }
   ],
   "source": [
    "# epochs implementation\n",
    "\n",
    "parameters = initialize_parameters([2,2,1])\n",
    "epochs = 50\n",
    "\n",
    "for i in range(epochs):\n",
    "\n",
    "  Loss = []\n",
    "\n",
    "  for j in range(df.shape[0]):\n",
    "\n",
    "    X = df[['cgpa', 'profile_score']].values[j].reshape(2,1) # Shape(no of features, no. of training example)\n",
    "    y = df[['lpa']].values[j][0]\n",
    "\n",
    "    # Parameter initialization\n",
    "\n",
    "\n",
    "    y_hat,A1 = L_layer_forward(X,parameters)\n",
    "    y_hat = y_hat[0][0]\n",
    "\n",
    "    update_parameters(parameters, y, y_hat, 0.0001, A1, X)\n",
    "\n",
    "    Loss.append((y-y_hat)**2)\n",
    "\n",
    "  print('Epoch - ',i+1,'Loss - ',np.array(Loss).mean())\n",
    "\n",
    "print(parameters)\n",
    "# print(\"\\nLoss - \", np.array(Loss).mean())"
   ]
  },
  {
   "cell_type": "code",
   "execution_count": null,
   "id": "53b1d850-8e49-4624-8999-bda89649b77d",
   "metadata": {},
   "outputs": [],
   "source": []
  }
 ],
 "metadata": {
  "kernelspec": {
   "display_name": "Python 3 (ipykernel)",
   "language": "python",
   "name": "python3"
  },
  "language_info": {
   "codemirror_mode": {
    "name": "ipython",
    "version": 3
   },
   "file_extension": ".py",
   "mimetype": "text/x-python",
   "name": "python",
   "nbconvert_exporter": "python",
   "pygments_lexer": "ipython3",
   "version": "3.10.14"
  }
 },
 "nbformat": 4,
 "nbformat_minor": 5
}
