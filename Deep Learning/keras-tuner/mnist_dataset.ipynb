{
 "cells": [
  {
   "cell_type": "markdown",
   "id": "14625e73-dc11-4206-8cd4-ee3ff3e5466e",
   "metadata": {},
   "source": [
    "https://keras.io/keras_tuner/getting_started/#start-the-search"
   ]
  },
  {
   "cell_type": "code",
   "execution_count": 1,
   "id": "0fd57643-b6d0-4942-b069-83da2f23025d",
   "metadata": {},
   "outputs": [],
   "source": [
    "import keras\n",
    "import numpy as np\n",
    "from keras import layers\n",
    "import keras_tuner as kt"
   ]
  },
  {
   "cell_type": "code",
   "execution_count": 26,
   "id": "906a71a0-5d52-4240-88e8-c48243910b73",
   "metadata": {},
   "outputs": [],
   "source": [
    "(X, y), (X_test, y_test) = keras.datasets.mnist.load_data()"
   ]
  },
  {
   "cell_type": "code",
   "execution_count": 27,
   "id": "47aa314e-c402-4a2d-b70c-feefa188f9e1",
   "metadata": {},
   "outputs": [],
   "source": [
    "X_train = X[:-10000]\n",
    "X_val = X[-10000:]\n",
    "y_train = y[:-10000]\n",
    "y_val = y[-10000:]"
   ]
  },
  {
   "cell_type": "code",
   "execution_count": 28,
   "id": "4e3af474-2462-4ca0-91d2-d6fd728db96f",
   "metadata": {},
   "outputs": [
    {
     "data": {
      "text/plain": [
       "(50000, 28, 28)"
      ]
     },
     "execution_count": 28,
     "metadata": {},
     "output_type": "execute_result"
    }
   ],
   "source": [
    "X_train.shape"
   ]
  },
  {
   "cell_type": "code",
   "execution_count": 29,
   "id": "6659fe4e-19ea-48f6-97a4-6b0215340766",
   "metadata": {},
   "outputs": [],
   "source": [
    "X_train = np.expand_dims(X_train, -1).astype(\"float64\") / 255.0\n",
    "X_val = np.expand_dims(X_val, -1).astype(\"float64\") / 255.0\n",
    "X_test = np.expand_dims(X_test, -1).astype(\"float64\") / 255.0"
   ]
  },
  {
   "cell_type": "code",
   "execution_count": 30,
   "id": "2cb82859-ac42-4915-b757-41a28766d677",
   "metadata": {},
   "outputs": [],
   "source": [
    "num_classes = 10\n",
    "y_train = keras.utils.to_categorical(y_train, num_classes)\n",
    "y_val = keras.utils.to_categorical(y_val, num_classes)\n",
    "y_test = keras.utils.to_categorical(y_test, num_classes)"
   ]
  },
  {
   "cell_type": "code",
   "execution_count": 45,
   "id": "94ce36fc-aa39-44fd-b7f0-0cc4e68dff38",
   "metadata": {},
   "outputs": [],
   "source": [
    "def build_model(hp):\n",
    "    model = keras.Sequential()\n",
    "\n",
    "    model.add(layers.Flatten())\n",
    "\n",
    "    # Tune the number of layers\n",
    "    for i in range(hp.Int(\"n_layers\", 1, 3)):\n",
    "        model.add(layers.Dense(\n",
    "            # Tune the number of units separately\n",
    "            units=hp.Int(f'units_{i}', min_value=32, max_value=512, default=32),\n",
    "            activation=hp.Choice(\"activation\", ['relu', 'tanh'])\n",
    "        ))\n",
    "\n",
    "    if hp.Boolean(\"dropout\"):\n",
    "        model.add(layers.Dropout(rate=0.25))\n",
    "    model.add(layers.Dense(10, activation='softmax'))\n",
    "\n",
    "    learning_rate = hp.Float(\"lr\", min_value=1e-4, max_value=1e-2, sampling='log')\n",
    "\n",
    "    model.compile(\n",
    "        optimizer=keras.optimizers.Adam(learning_rate=learning_rate),\n",
    "        loss='categorical_crossentropy',\n",
    "        # metrics=['accuracy']\n",
    "    )\n",
    "\n",
    "    return model"
   ]
  },
  {
   "cell_type": "code",
   "execution_count": 72,
   "id": "1c171cc1-02d3-40f1-8c68-f4f797916edf",
   "metadata": {},
   "outputs": [],
   "source": [
    "tuner = kt.RandomSearch(\n",
    "    build_model,\n",
    "    objective='val_loss',\n",
    "    max_trials=5,\n",
    "    executions_per_trial=2,\n",
    "    overwrite=True,\n",
    "    directory='my_dir',\n",
    "    project_name='mnist_ds'\n",
    ")"
   ]
  },
  {
   "cell_type": "code",
   "execution_count": 73,
   "id": "802b4872-68f8-412b-a710-18181d99310b",
   "metadata": {},
   "outputs": [
    {
     "name": "stdout",
     "output_type": "stream",
     "text": [
      "Search space summary\n",
      "Default search space size: 5\n",
      "n_layers (Int)\n",
      "{'default': None, 'conditions': [], 'min_value': 1, 'max_value': 3, 'step': 1, 'sampling': 'linear'}\n",
      "units_0 (Int)\n",
      "{'default': 32, 'conditions': [], 'min_value': 32, 'max_value': 512, 'step': 1, 'sampling': 'linear'}\n",
      "activation (Choice)\n",
      "{'default': 'relu', 'conditions': [], 'values': ['relu', 'tanh'], 'ordered': False}\n",
      "dropout (Boolean)\n",
      "{'default': False, 'conditions': []}\n",
      "lr (Float)\n",
      "{'default': 0.0001, 'conditions': [], 'min_value': 0.0001, 'max_value': 0.01, 'step': None, 'sampling': 'log'}\n"
     ]
    }
   ],
   "source": [
    "tuner.search_space_summary(extended=True)"
   ]
  },
  {
   "cell_type": "code",
   "execution_count": 50,
   "id": "3dbe8ab2-516a-40f4-b3f8-d3ecbe444883",
   "metadata": {},
   "outputs": [
    {
     "name": "stdout",
     "output_type": "stream",
     "text": [
      "Trial 5 Complete [00h 00m 21s]\n",
      "val_loss: 0.5155056864023209\n",
      "\n",
      "Best val_loss So Far: 0.0920250341296196\n",
      "Total elapsed time: 00h 01m 55s\n"
     ]
    }
   ],
   "source": [
    "tuner.search(X_train, y_train, epochs=2, validation_data=(X_val, y_val))"
   ]
  },
  {
   "cell_type": "code",
   "execution_count": 55,
   "id": "ce83bd90-00bf-4aa9-baa6-0c8783f0aaa4",
   "metadata": {},
   "outputs": [],
   "source": [
    "# tuner.get_best_models(num_models=1) returns a list of the best models\n",
    "best_model = tuner.get_best_models(num_models=1)[0]"
   ]
  },
  {
   "cell_type": "code",
   "execution_count": 56,
   "id": "c2009438-9611-4bfd-aaba-b2213211da13",
   "metadata": {
    "scrolled": true
   },
   "outputs": [
    {
     "data": {
      "text/html": [
       "<pre style=\"white-space:pre;overflow-x:auto;line-height:normal;font-family:Menlo,'DejaVu Sans Mono',consolas,'Courier New',monospace\"><span style=\"font-weight: bold\">Model: \"sequential\"</span>\n",
       "</pre>\n"
      ],
      "text/plain": [
       "\u001b[1mModel: \"sequential\"\u001b[0m\n"
      ]
     },
     "metadata": {},
     "output_type": "display_data"
    },
    {
     "data": {
      "text/html": [
       "<pre style=\"white-space:pre;overflow-x:auto;line-height:normal;font-family:Menlo,'DejaVu Sans Mono',consolas,'Courier New',monospace\">┏━━━━━━━━━━━━━━━━━━━━━━━━━━━━━━━━━┳━━━━━━━━━━━━━━━━━━━━━━━━┳━━━━━━━━━━━━━━━┓\n",
       "┃<span style=\"font-weight: bold\"> Layer (type)                    </span>┃<span style=\"font-weight: bold\"> Output Shape           </span>┃<span style=\"font-weight: bold\">       Param # </span>┃\n",
       "┡━━━━━━━━━━━━━━━━━━━━━━━━━━━━━━━━━╇━━━━━━━━━━━━━━━━━━━━━━━━╇━━━━━━━━━━━━━━━┩\n",
       "│ flatten (<span style=\"color: #0087ff; text-decoration-color: #0087ff\">Flatten</span>)               │ (<span style=\"color: #00d7ff; text-decoration-color: #00d7ff\">None</span>, <span style=\"color: #00af00; text-decoration-color: #00af00\">784</span>)            │             <span style=\"color: #00af00; text-decoration-color: #00af00\">0</span> │\n",
       "├─────────────────────────────────┼────────────────────────┼───────────────┤\n",
       "│ dense (<span style=\"color: #0087ff; text-decoration-color: #0087ff\">Dense</span>)                   │ (<span style=\"color: #00d7ff; text-decoration-color: #00d7ff\">None</span>, <span style=\"color: #00af00; text-decoration-color: #00af00\">295</span>)            │       <span style=\"color: #00af00; text-decoration-color: #00af00\">231,575</span> │\n",
       "├─────────────────────────────────┼────────────────────────┼───────────────┤\n",
       "│ dense_1 (<span style=\"color: #0087ff; text-decoration-color: #0087ff\">Dense</span>)                 │ (<span style=\"color: #00d7ff; text-decoration-color: #00d7ff\">None</span>, <span style=\"color: #00af00; text-decoration-color: #00af00\">377</span>)            │       <span style=\"color: #00af00; text-decoration-color: #00af00\">111,592</span> │\n",
       "├─────────────────────────────────┼────────────────────────┼───────────────┤\n",
       "│ dropout (<span style=\"color: #0087ff; text-decoration-color: #0087ff\">Dropout</span>)               │ (<span style=\"color: #00d7ff; text-decoration-color: #00d7ff\">None</span>, <span style=\"color: #00af00; text-decoration-color: #00af00\">377</span>)            │             <span style=\"color: #00af00; text-decoration-color: #00af00\">0</span> │\n",
       "├─────────────────────────────────┼────────────────────────┼───────────────┤\n",
       "│ dense_2 (<span style=\"color: #0087ff; text-decoration-color: #0087ff\">Dense</span>)                 │ (<span style=\"color: #00d7ff; text-decoration-color: #00d7ff\">None</span>, <span style=\"color: #00af00; text-decoration-color: #00af00\">10</span>)             │         <span style=\"color: #00af00; text-decoration-color: #00af00\">3,780</span> │\n",
       "└─────────────────────────────────┴────────────────────────┴───────────────┘\n",
       "</pre>\n"
      ],
      "text/plain": [
       "┏━━━━━━━━━━━━━━━━━━━━━━━━━━━━━━━━━┳━━━━━━━━━━━━━━━━━━━━━━━━┳━━━━━━━━━━━━━━━┓\n",
       "┃\u001b[1m \u001b[0m\u001b[1mLayer (type)                   \u001b[0m\u001b[1m \u001b[0m┃\u001b[1m \u001b[0m\u001b[1mOutput Shape          \u001b[0m\u001b[1m \u001b[0m┃\u001b[1m \u001b[0m\u001b[1m      Param #\u001b[0m\u001b[1m \u001b[0m┃\n",
       "┡━━━━━━━━━━━━━━━━━━━━━━━━━━━━━━━━━╇━━━━━━━━━━━━━━━━━━━━━━━━╇━━━━━━━━━━━━━━━┩\n",
       "│ flatten (\u001b[38;5;33mFlatten\u001b[0m)               │ (\u001b[38;5;45mNone\u001b[0m, \u001b[38;5;34m784\u001b[0m)            │             \u001b[38;5;34m0\u001b[0m │\n",
       "├─────────────────────────────────┼────────────────────────┼───────────────┤\n",
       "│ dense (\u001b[38;5;33mDense\u001b[0m)                   │ (\u001b[38;5;45mNone\u001b[0m, \u001b[38;5;34m295\u001b[0m)            │       \u001b[38;5;34m231,575\u001b[0m │\n",
       "├─────────────────────────────────┼────────────────────────┼───────────────┤\n",
       "│ dense_1 (\u001b[38;5;33mDense\u001b[0m)                 │ (\u001b[38;5;45mNone\u001b[0m, \u001b[38;5;34m377\u001b[0m)            │       \u001b[38;5;34m111,592\u001b[0m │\n",
       "├─────────────────────────────────┼────────────────────────┼───────────────┤\n",
       "│ dropout (\u001b[38;5;33mDropout\u001b[0m)               │ (\u001b[38;5;45mNone\u001b[0m, \u001b[38;5;34m377\u001b[0m)            │             \u001b[38;5;34m0\u001b[0m │\n",
       "├─────────────────────────────────┼────────────────────────┼───────────────┤\n",
       "│ dense_2 (\u001b[38;5;33mDense\u001b[0m)                 │ (\u001b[38;5;45mNone\u001b[0m, \u001b[38;5;34m10\u001b[0m)             │         \u001b[38;5;34m3,780\u001b[0m │\n",
       "└─────────────────────────────────┴────────────────────────┴───────────────┘\n"
      ]
     },
     "metadata": {},
     "output_type": "display_data"
    },
    {
     "data": {
      "text/html": [
       "<pre style=\"white-space:pre;overflow-x:auto;line-height:normal;font-family:Menlo,'DejaVu Sans Mono',consolas,'Courier New',monospace\"><span style=\"font-weight: bold\"> Total params: </span><span style=\"color: #00af00; text-decoration-color: #00af00\">346,947</span> (1.32 MB)\n",
       "</pre>\n"
      ],
      "text/plain": [
       "\u001b[1m Total params: \u001b[0m\u001b[38;5;34m346,947\u001b[0m (1.32 MB)\n"
      ]
     },
     "metadata": {},
     "output_type": "display_data"
    },
    {
     "data": {
      "text/html": [
       "<pre style=\"white-space:pre;overflow-x:auto;line-height:normal;font-family:Menlo,'DejaVu Sans Mono',consolas,'Courier New',monospace\"><span style=\"font-weight: bold\"> Trainable params: </span><span style=\"color: #00af00; text-decoration-color: #00af00\">346,947</span> (1.32 MB)\n",
       "</pre>\n"
      ],
      "text/plain": [
       "\u001b[1m Trainable params: \u001b[0m\u001b[38;5;34m346,947\u001b[0m (1.32 MB)\n"
      ]
     },
     "metadata": {},
     "output_type": "display_data"
    },
    {
     "data": {
      "text/html": [
       "<pre style=\"white-space:pre;overflow-x:auto;line-height:normal;font-family:Menlo,'DejaVu Sans Mono',consolas,'Courier New',monospace\"><span style=\"font-weight: bold\"> Non-trainable params: </span><span style=\"color: #00af00; text-decoration-color: #00af00\">0</span> (0.00 B)\n",
       "</pre>\n"
      ],
      "text/plain": [
       "\u001b[1m Non-trainable params: \u001b[0m\u001b[38;5;34m0\u001b[0m (0.00 B)\n"
      ]
     },
     "metadata": {},
     "output_type": "display_data"
    }
   ],
   "source": [
    "best_model.summary()"
   ]
  },
  {
   "cell_type": "code",
   "execution_count": 57,
   "id": "4c55ceab-550f-4354-a488-0750f3b1d4c6",
   "metadata": {
    "scrolled": true
   },
   "outputs": [
    {
     "name": "stdout",
     "output_type": "stream",
     "text": [
      "Results summary\n",
      "Results in my_dir\\mnist_ds\n",
      "Showing 10 best trials\n",
      "Objective(name=\"val_loss\", direction=\"min\")\n",
      "\n",
      "Trial 3 summary\n",
      "Hyperparameters:\n",
      "n_layers: 2\n",
      "units_0: 295\n",
      "activation: relu\n",
      "dropout: True\n",
      "lr: 0.0010153958908885\n",
      "units_1: 377\n",
      "units_2: 138\n",
      "Score: 0.0920250341296196\n",
      "\n",
      "Trial 0 summary\n",
      "Hyperparameters:\n",
      "n_layers: 3\n",
      "units_0: 226\n",
      "activation: tanh\n",
      "dropout: False\n",
      "lr: 0.00027196868413302354\n",
      "units_1: 32\n",
      "units_2: 32\n",
      "Score: 0.1680278405547142\n",
      "\n",
      "Trial 2 summary\n",
      "Hyperparameters:\n",
      "n_layers: 1\n",
      "units_0: 224\n",
      "activation: tanh\n",
      "dropout: True\n",
      "lr: 0.0006358745983798522\n",
      "units_1: 230\n",
      "units_2: 149\n",
      "Score: 0.1743825450539589\n",
      "\n",
      "Trial 1 summary\n",
      "Hyperparameters:\n",
      "n_layers: 3\n",
      "units_0: 286\n",
      "activation: tanh\n",
      "dropout: False\n",
      "lr: 0.00511185911937983\n",
      "units_1: 303\n",
      "units_2: 311\n",
      "Score: 0.23528940975666046\n",
      "\n",
      "Trial 4 summary\n",
      "Hyperparameters:\n",
      "n_layers: 3\n",
      "units_0: 69\n",
      "activation: tanh\n",
      "dropout: True\n",
      "lr: 0.009864796448312292\n",
      "units_1: 299\n",
      "units_2: 432\n",
      "Score: 0.5155056864023209\n"
     ]
    }
   ],
   "source": [
    "tuner.results_summary()"
   ]
  },
  {
   "cell_type": "code",
   "execution_count": 77,
   "id": "be5650fc-69ca-4e72-9253-6b00e8b34be4",
   "metadata": {},
   "outputs": [],
   "source": [
    "grid_tuner = kt.GridSearch(\n",
    "    build_model,\n",
    "    objective=\"val_loss\",\n",
    "    max_trials=5,\n",
    "    overwrite=True,\n",
    "    directory=r'my_dir/mnist_ds',\n",
    "    project_name='grid_search'\n",
    ")"
   ]
  },
  {
   "cell_type": "code",
   "execution_count": 78,
   "id": "07a527e7-9428-426f-a625-5a2715c70326",
   "metadata": {},
   "outputs": [
    {
     "name": "stdout",
     "output_type": "stream",
     "text": [
      "Search space summary\n",
      "Default search space size: 5\n",
      "n_layers (Int)\n",
      "{'default': None, 'conditions': [], 'min_value': 1, 'max_value': 3, 'step': 1, 'sampling': 'linear'}\n",
      "units_0 (Int)\n",
      "{'default': 32, 'conditions': [], 'min_value': 32, 'max_value': 512, 'step': 1, 'sampling': 'linear'}\n",
      "activation (Choice)\n",
      "{'default': 'relu', 'conditions': [], 'values': ['relu', 'tanh'], 'ordered': False}\n",
      "dropout (Boolean)\n",
      "{'default': False, 'conditions': []}\n",
      "lr (Float)\n",
      "{'default': 0.0001, 'conditions': [], 'min_value': 0.0001, 'max_value': 0.01, 'step': None, 'sampling': 'log'}\n"
     ]
    }
   ],
   "source": [
    "grid_tuner.search_space_summary()"
   ]
  },
  {
   "cell_type": "code",
   "execution_count": 80,
   "id": "e4afa006-742b-4d5c-91dd-5479e19ec420",
   "metadata": {},
   "outputs": [
    {
     "name": "stdout",
     "output_type": "stream",
     "text": [
      "Trial 5 Complete [00h 00m 09s]\n",
      "val_loss: 0.15297657251358032\n",
      "\n",
      "Best val_loss So Far: 0.15297657251358032\n",
      "Total elapsed time: 00h 00m 43s\n"
     ]
    }
   ],
   "source": [
    "grid_tuner.search(X_train, y_train, epochs=3, validation_data=(X_val, y_val))"
   ]
  },
  {
   "cell_type": "markdown",
   "id": "a54be917-99d3-4833-9600-cabb3b52afa9",
   "metadata": {},
   "source": [
    "## Retrain the model\n",
    "If you want to train the model with the entire dataset, you may retrieve the best hyperparameters and retrain the model by yourself."
   ]
  },
  {
   "cell_type": "code",
   "execution_count": 58,
   "id": "cab0d90b-ba71-4fbb-820f-1201ba0e9b27",
   "metadata": {},
   "outputs": [],
   "source": [
    "# tuner.get_best_hyperparameters(n): returns n best hyperparameter objects\n",
    "best_hps = tuner.get_best_hyperparameters(1)\n",
    "model = build_model(best_hps[0])"
   ]
  },
  {
   "cell_type": "code",
   "execution_count": 59,
   "id": "b470f7fc-e66c-4a58-8114-42dcef43cd83",
   "metadata": {},
   "outputs": [
    {
     "name": "stdout",
     "output_type": "stream",
     "text": [
      "Epoch 1/5\n",
      "\u001b[1m1563/1563\u001b[0m \u001b[32m━━━━━━━━━━━━━━━━━━━━\u001b[0m\u001b[37m\u001b[0m \u001b[1m7s\u001b[0m 4ms/step - loss: 0.3894 - val_loss: 0.1098\n",
      "Epoch 2/5\n",
      "\u001b[1m1563/1563\u001b[0m \u001b[32m━━━━━━━━━━━━━━━━━━━━\u001b[0m\u001b[37m\u001b[0m \u001b[1m6s\u001b[0m 4ms/step - loss: 0.0911 - val_loss: 0.0881\n",
      "Epoch 3/5\n",
      "\u001b[1m1563/1563\u001b[0m \u001b[32m━━━━━━━━━━━━━━━━━━━━\u001b[0m\u001b[37m\u001b[0m \u001b[1m6s\u001b[0m 4ms/step - loss: 0.0636 - val_loss: 0.0853\n",
      "Epoch 4/5\n",
      "\u001b[1m1563/1563\u001b[0m \u001b[32m━━━━━━━━━━━━━━━━━━━━\u001b[0m\u001b[37m\u001b[0m \u001b[1m5s\u001b[0m 3ms/step - loss: 0.0454 - val_loss: 0.1011\n",
      "Epoch 5/5\n",
      "\u001b[1m1563/1563\u001b[0m \u001b[32m━━━━━━━━━━━━━━━━━━━━\u001b[0m\u001b[37m\u001b[0m \u001b[1m6s\u001b[0m 4ms/step - loss: 0.0398 - val_loss: 0.0924\n"
     ]
    },
    {
     "data": {
      "text/plain": [
       "<keras.src.callbacks.history.History at 0x18a2726dd80>"
      ]
     },
     "execution_count": 59,
     "metadata": {},
     "output_type": "execute_result"
    }
   ],
   "source": [
    "model.fit(X_train, y_train, epochs=5, validation_data=(X_val, y_val))"
   ]
  },
  {
   "cell_type": "markdown",
   "id": "eb455379-46ec-4b04-a40f-ed1a36e142eb",
   "metadata": {},
   "source": [
    "## Subclass HyperModel class"
   ]
  },
  {
   "cell_type": "code",
   "execution_count": 60,
   "id": "ef8aa88d-72df-44e9-b5b8-4daf2dcd7631",
   "metadata": {},
   "outputs": [],
   "source": [
    "class MyHyperModel(kt.HyperModel):\n",
    "    def build(self, hp):\n",
    "        return build_model(hp)\n",
    "\n",
    "    def fit(self, hp, model, *args, **kwargs):\n",
    "        return model.fit(\n",
    "            *args,\n",
    "            # Tune whether to shuffle the data in each epoch.\n",
    "            shuffle=hp.Boolean(\"shuffle\"),\n",
    "            **kwargs\n",
    "        )"
   ]
  },
  {
   "cell_type": "code",
   "execution_count": 61,
   "id": "db3b99b1-a673-4f01-9af8-e6ff63ac4f29",
   "metadata": {},
   "outputs": [
    {
     "name": "stdout",
     "output_type": "stream",
     "text": [
      "\u001b[1m1563/1563\u001b[0m \u001b[32m━━━━━━━━━━━━━━━━━━━━\u001b[0m\u001b[37m\u001b[0m \u001b[1m2s\u001b[0m 1ms/step - loss: 1.4989\n"
     ]
    },
    {
     "data": {
      "text/plain": [
       "<keras.src.callbacks.history.History at 0x18a2c15a350>"
      ]
     },
     "execution_count": 61,
     "metadata": {},
     "output_type": "execute_result"
    }
   ],
   "source": [
    "# to check if the code works correctly\n",
    "\n",
    "hp = kt.HyperParameters()\n",
    "hypermodel = MyHyperModel()\n",
    "model = hypermodel.build(hp)\n",
    "hypermodel.fit(hp, model, X_train, y_train)"
   ]
  },
  {
   "cell_type": "code",
   "execution_count": 66,
   "id": "39ae4bdf-18e2-4469-a85f-79e8ffa28d8c",
   "metadata": {},
   "outputs": [
    {
     "data": {
      "text/plain": [
       "1"
      ]
     },
     "execution_count": 66,
     "metadata": {},
     "output_type": "execute_result"
    }
   ],
   "source": [
    "hp.get(\"n_layers\")"
   ]
  },
  {
   "cell_type": "code",
   "execution_count": 69,
   "id": "d91910b8-0190-42d8-a89f-dd43df0e1cd3",
   "metadata": {},
   "outputs": [],
   "source": [
    "# use it as a black-box optimizer for anything.\n",
    "# didnt quite understand this though"
   ]
  },
  {
   "cell_type": "code",
   "execution_count": 70,
   "id": "fb5774e5-3665-4bd2-a1a7-df2d7a9fedc9",
   "metadata": {},
   "outputs": [
    {
     "name": "stdout",
     "output_type": "stream",
     "text": [
      "Trial 20 Complete [00h 00m 00s]\n",
      "default_objective: 1.3918261328069328\n",
      "\n",
      "Best default_objective So Far: 1.0001436182760177\n",
      "Total elapsed time: 00h 00m 01s\n",
      "-0.011984084279478724\n"
     ]
    }
   ],
   "source": [
    "class MyTuner(kt.RandomSearch):\n",
    "    def run_trial(self, trial, *args, **kwargs):\n",
    "        # Get the hp from trial.\n",
    "        hp = trial.hyperparameters\n",
    "        # Define \"x\" as a hyperparameter.\n",
    "        x = hp.Float(\"x\", min_value=-1.0, max_value=1.0)\n",
    "        # Return the objective value to minimize.\n",
    "        return x * x + 1\n",
    "\n",
    "\n",
    "tuner = MyTuner(\n",
    "    # No hypermodel or objective specified.\n",
    "    max_trials=20,\n",
    "    overwrite=True,\n",
    "    directory=\"my_dir\",\n",
    "    project_name=\"tune_anything\",\n",
    ")\n",
    "\n",
    "# No need to pass anything to search()\n",
    "# unless you use them in run_trial().\n",
    "tuner.search()\n",
    "print(tuner.get_best_hyperparameters()[0].get(\"x\"))"
   ]
  },
  {
   "cell_type": "code",
   "execution_count": null,
   "id": "31022eb1-20db-4b64-b21d-cc87707f98dd",
   "metadata": {},
   "outputs": [],
   "source": []
  }
 ],
 "metadata": {
  "kernelspec": {
   "display_name": "Python 3 (ipykernel)",
   "language": "python",
   "name": "python3"
  },
  "language_info": {
   "codemirror_mode": {
    "name": "ipython",
    "version": 3
   },
   "file_extension": ".py",
   "mimetype": "text/x-python",
   "name": "python",
   "nbconvert_exporter": "python",
   "pygments_lexer": "ipython3",
   "version": "3.10.14"
  }
 },
 "nbformat": 4,
 "nbformat_minor": 5
}
