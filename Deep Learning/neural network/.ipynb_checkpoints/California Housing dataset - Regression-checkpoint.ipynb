{
 "cells": [
  {
   "cell_type": "code",
   "execution_count": 55,
   "id": "48c6b533-50e1-45fa-b3b1-5e560d453b18",
   "metadata": {},
   "outputs": [],
   "source": [
    "import tensorflow as tf\n",
    "from tensorflow import keras\n",
    "from tensorflow.keras import Sequential\n",
    "from tensorflow.keras.layers import Input, Normalization, Dense\n",
    "import matplotlib.pyplot as plt"
   ]
  },
  {
   "cell_type": "code",
   "execution_count": 2,
   "id": "5c841c79-d28d-4f71-9025-6cce4b0cbc68",
   "metadata": {},
   "outputs": [
    {
     "name": "stdout",
     "output_type": "stream",
     "text": [
      "Downloading data from https://storage.googleapis.com/tensorflow/tf-keras-datasets/california_housing.npz\n",
      "\u001b[1m743530/743530\u001b[0m \u001b[32m━━━━━━━━━━━━━━━━━━━━\u001b[0m\u001b[37m\u001b[0m \u001b[1m2s\u001b[0m 3us/step \n"
     ]
    }
   ],
   "source": [
    "data = keras.datasets.california_housing.load_data()"
   ]
  },
  {
   "cell_type": "code",
   "execution_count": 9,
   "id": "66316ccf-6496-457a-9c4e-76055d10f2ee",
   "metadata": {},
   "outputs": [],
   "source": [
    "(X_train, y_train), (X_test, y_test) = data"
   ]
  },
  {
   "cell_type": "code",
   "execution_count": 13,
   "id": "97769377-f4db-4679-9037-cba973a3b065",
   "metadata": {},
   "outputs": [],
   "source": [
    "tf.random.set_seed(42)"
   ]
  },
  {
   "cell_type": "code",
   "execution_count": 35,
   "id": "b3a8f503-802f-4900-974c-6dc88f6e8a80",
   "metadata": {},
   "outputs": [],
   "source": [
    "norm_layer = Normalization()"
   ]
  },
  {
   "cell_type": "code",
   "execution_count": 37,
   "id": "738060a7-255e-4cbc-b267-59248a3597a8",
   "metadata": {},
   "outputs": [],
   "source": [
    "model = Sequential([\n",
    "    Input(X_train.shape[1:]),\n",
    "    norm_layer,\n",
    "    Dense(50, activation=keras.activations.relu),\n",
    "    Dense(50, activation=keras.activations.relu),\n",
    "    Dense(50, activation=keras.activations.relu),\n",
    "    Dense(1)\n",
    "])"
   ]
  },
  {
   "cell_type": "code",
   "execution_count": 39,
   "id": "46034ca9-abb6-4ece-9ffc-bbf9933a590f",
   "metadata": {},
   "outputs": [],
   "source": [
    "optimizer = keras.optimizers.Adam(learning_rate=1e-3)"
   ]
  },
  {
   "cell_type": "code",
   "execution_count": 40,
   "id": "0bbfd64d-4d14-46b5-809d-a73a8ab73f4a",
   "metadata": {},
   "outputs": [
    {
     "data": {
      "text/html": [
       "<pre style=\"white-space:pre;overflow-x:auto;line-height:normal;font-family:Menlo,'DejaVu Sans Mono',consolas,'Courier New',monospace\"><span style=\"font-weight: bold\">Model: \"sequential_1\"</span>\n",
       "</pre>\n"
      ],
      "text/plain": [
       "\u001b[1mModel: \"sequential_1\"\u001b[0m\n"
      ]
     },
     "metadata": {},
     "output_type": "display_data"
    },
    {
     "data": {
      "text/html": [
       "<pre style=\"white-space:pre;overflow-x:auto;line-height:normal;font-family:Menlo,'DejaVu Sans Mono',consolas,'Courier New',monospace\">┏━━━━━━━━━━━━━━━━━━━━━━━━━━━━━━━━━┳━━━━━━━━━━━━━━━━━━━━━━━━┳━━━━━━━━━━━━━━━┓\n",
       "┃<span style=\"font-weight: bold\"> Layer (type)                    </span>┃<span style=\"font-weight: bold\"> Output Shape           </span>┃<span style=\"font-weight: bold\">       Param # </span>┃\n",
       "┡━━━━━━━━━━━━━━━━━━━━━━━━━━━━━━━━━╇━━━━━━━━━━━━━━━━━━━━━━━━╇━━━━━━━━━━━━━━━┩\n",
       "│ normalization_2 (<span style=\"color: #0087ff; text-decoration-color: #0087ff\">Normalization</span>) │ (<span style=\"color: #00d7ff; text-decoration-color: #00d7ff\">None</span>, <span style=\"color: #00af00; text-decoration-color: #00af00\">8</span>)              │            <span style=\"color: #00af00; text-decoration-color: #00af00\">17</span> │\n",
       "├─────────────────────────────────┼────────────────────────┼───────────────┤\n",
       "│ dense_6 (<span style=\"color: #0087ff; text-decoration-color: #0087ff\">Dense</span>)                 │ (<span style=\"color: #00d7ff; text-decoration-color: #00d7ff\">None</span>, <span style=\"color: #00af00; text-decoration-color: #00af00\">50</span>)             │           <span style=\"color: #00af00; text-decoration-color: #00af00\">450</span> │\n",
       "├─────────────────────────────────┼────────────────────────┼───────────────┤\n",
       "│ dense_7 (<span style=\"color: #0087ff; text-decoration-color: #0087ff\">Dense</span>)                 │ (<span style=\"color: #00d7ff; text-decoration-color: #00d7ff\">None</span>, <span style=\"color: #00af00; text-decoration-color: #00af00\">50</span>)             │         <span style=\"color: #00af00; text-decoration-color: #00af00\">2,550</span> │\n",
       "├─────────────────────────────────┼────────────────────────┼───────────────┤\n",
       "│ dense_8 (<span style=\"color: #0087ff; text-decoration-color: #0087ff\">Dense</span>)                 │ (<span style=\"color: #00d7ff; text-decoration-color: #00d7ff\">None</span>, <span style=\"color: #00af00; text-decoration-color: #00af00\">50</span>)             │         <span style=\"color: #00af00; text-decoration-color: #00af00\">2,550</span> │\n",
       "├─────────────────────────────────┼────────────────────────┼───────────────┤\n",
       "│ dense_9 (<span style=\"color: #0087ff; text-decoration-color: #0087ff\">Dense</span>)                 │ (<span style=\"color: #00d7ff; text-decoration-color: #00d7ff\">None</span>, <span style=\"color: #00af00; text-decoration-color: #00af00\">1</span>)              │            <span style=\"color: #00af00; text-decoration-color: #00af00\">51</span> │\n",
       "└─────────────────────────────────┴────────────────────────┴───────────────┘\n",
       "</pre>\n"
      ],
      "text/plain": [
       "┏━━━━━━━━━━━━━━━━━━━━━━━━━━━━━━━━━┳━━━━━━━━━━━━━━━━━━━━━━━━┳━━━━━━━━━━━━━━━┓\n",
       "┃\u001b[1m \u001b[0m\u001b[1mLayer (type)                   \u001b[0m\u001b[1m \u001b[0m┃\u001b[1m \u001b[0m\u001b[1mOutput Shape          \u001b[0m\u001b[1m \u001b[0m┃\u001b[1m \u001b[0m\u001b[1m      Param #\u001b[0m\u001b[1m \u001b[0m┃\n",
       "┡━━━━━━━━━━━━━━━━━━━━━━━━━━━━━━━━━╇━━━━━━━━━━━━━━━━━━━━━━━━╇━━━━━━━━━━━━━━━┩\n",
       "│ normalization_2 (\u001b[38;5;33mNormalization\u001b[0m) │ (\u001b[38;5;45mNone\u001b[0m, \u001b[38;5;34m8\u001b[0m)              │            \u001b[38;5;34m17\u001b[0m │\n",
       "├─────────────────────────────────┼────────────────────────┼───────────────┤\n",
       "│ dense_6 (\u001b[38;5;33mDense\u001b[0m)                 │ (\u001b[38;5;45mNone\u001b[0m, \u001b[38;5;34m50\u001b[0m)             │           \u001b[38;5;34m450\u001b[0m │\n",
       "├─────────────────────────────────┼────────────────────────┼───────────────┤\n",
       "│ dense_7 (\u001b[38;5;33mDense\u001b[0m)                 │ (\u001b[38;5;45mNone\u001b[0m, \u001b[38;5;34m50\u001b[0m)             │         \u001b[38;5;34m2,550\u001b[0m │\n",
       "├─────────────────────────────────┼────────────────────────┼───────────────┤\n",
       "│ dense_8 (\u001b[38;5;33mDense\u001b[0m)                 │ (\u001b[38;5;45mNone\u001b[0m, \u001b[38;5;34m50\u001b[0m)             │         \u001b[38;5;34m2,550\u001b[0m │\n",
       "├─────────────────────────────────┼────────────────────────┼───────────────┤\n",
       "│ dense_9 (\u001b[38;5;33mDense\u001b[0m)                 │ (\u001b[38;5;45mNone\u001b[0m, \u001b[38;5;34m1\u001b[0m)              │            \u001b[38;5;34m51\u001b[0m │\n",
       "└─────────────────────────────────┴────────────────────────┴───────────────┘\n"
      ]
     },
     "metadata": {},
     "output_type": "display_data"
    },
    {
     "data": {
      "text/html": [
       "<pre style=\"white-space:pre;overflow-x:auto;line-height:normal;font-family:Menlo,'DejaVu Sans Mono',consolas,'Courier New',monospace\"><span style=\"font-weight: bold\"> Total params: </span><span style=\"color: #00af00; text-decoration-color: #00af00\">5,618</span> (21.95 KB)\n",
       "</pre>\n"
      ],
      "text/plain": [
       "\u001b[1m Total params: \u001b[0m\u001b[38;5;34m5,618\u001b[0m (21.95 KB)\n"
      ]
     },
     "metadata": {},
     "output_type": "display_data"
    },
    {
     "data": {
      "text/html": [
       "<pre style=\"white-space:pre;overflow-x:auto;line-height:normal;font-family:Menlo,'DejaVu Sans Mono',consolas,'Courier New',monospace\"><span style=\"font-weight: bold\"> Trainable params: </span><span style=\"color: #00af00; text-decoration-color: #00af00\">5,601</span> (21.88 KB)\n",
       "</pre>\n"
      ],
      "text/plain": [
       "\u001b[1m Trainable params: \u001b[0m\u001b[38;5;34m5,601\u001b[0m (21.88 KB)\n"
      ]
     },
     "metadata": {},
     "output_type": "display_data"
    },
    {
     "data": {
      "text/html": [
       "<pre style=\"white-space:pre;overflow-x:auto;line-height:normal;font-family:Menlo,'DejaVu Sans Mono',consolas,'Courier New',monospace\"><span style=\"font-weight: bold\"> Non-trainable params: </span><span style=\"color: #00af00; text-decoration-color: #00af00\">17</span> (72.00 B)\n",
       "</pre>\n"
      ],
      "text/plain": [
       "\u001b[1m Non-trainable params: \u001b[0m\u001b[38;5;34m17\u001b[0m (72.00 B)\n"
      ]
     },
     "metadata": {},
     "output_type": "display_data"
    }
   ],
   "source": [
    "model.summary()"
   ]
  },
  {
   "cell_type": "code",
   "execution_count": 41,
   "id": "fe037ed4-e44f-47e4-bafe-938e96c582c2",
   "metadata": {},
   "outputs": [],
   "source": [
    "norm_layer.adapt(X_train)"
   ]
  },
  {
   "cell_type": "code",
   "execution_count": 47,
   "id": "acc6e919-6678-415e-a1b5-48f6c02f769c",
   "metadata": {},
   "outputs": [],
   "source": [
    "model.compile(optimizer=optimizer, loss=keras.losses.mse, metrics=[keras.metrics.RootMeanSquaredError])"
   ]
  },
  {
   "cell_type": "code",
   "execution_count": 50,
   "id": "3bb6a201-763c-45de-a20f-cb4fd9ff61f7",
   "metadata": {
    "collapsed": true,
    "jupyter": {
     "outputs_hidden": true
    }
   },
   "outputs": [
    {
     "name": "stdout",
     "output_type": "stream",
     "text": [
      "Epoch 1/100\n",
      "\u001b[1m413/413\u001b[0m \u001b[32m━━━━━━━━━━━━━━━━━━━━\u001b[0m\u001b[37m\u001b[0m \u001b[1m1s\u001b[0m 2ms/step - loss: 4367554048.0000 - root_mean_squared_error: 66069.4688 - val_loss: 4280316160.0000 - val_root_mean_squared_error: 65424.1250\n",
      "Epoch 2/100\n",
      "\u001b[1m413/413\u001b[0m \u001b[32m━━━━━━━━━━━━━━━━━━━━\u001b[0m\u001b[37m\u001b[0m \u001b[1m1s\u001b[0m 2ms/step - loss: 4358000128.0000 - root_mean_squared_error: 65997.1641 - val_loss: 4274469120.0000 - val_root_mean_squared_error: 65379.4258\n",
      "Epoch 3/100\n",
      "\u001b[1m413/413\u001b[0m \u001b[32m━━━━━━━━━━━━━━━━━━━━\u001b[0m\u001b[37m\u001b[0m \u001b[1m1s\u001b[0m 2ms/step - loss: 4349108736.0000 - root_mean_squared_error: 65929.8047 - val_loss: 4268672512.0000 - val_root_mean_squared_error: 65335.0781\n",
      "Epoch 4/100\n",
      "\u001b[1m413/413\u001b[0m \u001b[32m━━━━━━━━━━━━━━━━━━━━\u001b[0m\u001b[37m\u001b[0m \u001b[1m1s\u001b[0m 2ms/step - loss: 4340600320.0000 - root_mean_squared_error: 65865.2812 - val_loss: 4263135744.0000 - val_root_mean_squared_error: 65292.6914\n",
      "Epoch 5/100\n",
      "\u001b[1m413/413\u001b[0m \u001b[32m━━━━━━━━━━━━━━━━━━━━\u001b[0m\u001b[37m\u001b[0m \u001b[1m1s\u001b[0m 2ms/step - loss: 4332523520.0000 - root_mean_squared_error: 65803.9844 - val_loss: 4257677056.0000 - val_root_mean_squared_error: 65250.8789\n",
      "Epoch 6/100\n",
      "\u001b[1m413/413\u001b[0m \u001b[32m━━━━━━━━━━━━━━━━━━━━\u001b[0m\u001b[37m\u001b[0m \u001b[1m1s\u001b[0m 2ms/step - loss: 4324893184.0000 - root_mean_squared_error: 65746.0234 - val_loss: 4252472064.0000 - val_root_mean_squared_error: 65210.9805\n",
      "Epoch 7/100\n",
      "\u001b[1m413/413\u001b[0m \u001b[32m━━━━━━━━━━━━━━━━━━━━\u001b[0m\u001b[37m\u001b[0m \u001b[1m1s\u001b[0m 2ms/step - loss: 4317561856.0000 - root_mean_squared_error: 65690.2734 - val_loss: 4247385088.0000 - val_root_mean_squared_error: 65171.9648\n",
      "Epoch 8/100\n",
      "\u001b[1m413/413\u001b[0m \u001b[32m━━━━━━━━━━━━━━━━━━━━\u001b[0m\u001b[37m\u001b[0m \u001b[1m1s\u001b[0m 2ms/step - loss: 4310553600.0000 - root_mean_squared_error: 65636.9453 - val_loss: 4242589696.0000 - val_root_mean_squared_error: 65135.1641\n",
      "Epoch 9/100\n",
      "\u001b[1m413/413\u001b[0m \u001b[32m━━━━━━━━━━━━━━━━━━━━\u001b[0m\u001b[37m\u001b[0m \u001b[1m1s\u001b[0m 2ms/step - loss: 4303797760.0000 - root_mean_squared_error: 65585.4844 - val_loss: 4237698816.0000 - val_root_mean_squared_error: 65097.6094\n",
      "Epoch 10/100\n",
      "\u001b[1m413/413\u001b[0m \u001b[32m━━━━━━━━━━━━━━━━━━━━\u001b[0m\u001b[37m\u001b[0m \u001b[1m1s\u001b[0m 2ms/step - loss: 4297308160.0000 - root_mean_squared_error: 65536.0078 - val_loss: 4232638464.0000 - val_root_mean_squared_error: 65058.7305\n",
      "Epoch 11/100\n",
      "\u001b[1m413/413\u001b[0m \u001b[32m━━━━━━━━━━━━━━━━━━━━\u001b[0m\u001b[37m\u001b[0m \u001b[1m1s\u001b[0m 2ms/step - loss: 4290948352.0000 - root_mean_squared_error: 65487.4805 - val_loss: 4227732480.0000 - val_root_mean_squared_error: 65021.0156\n",
      "Epoch 12/100\n",
      "\u001b[1m413/413\u001b[0m \u001b[32m━━━━━━━━━━━━━━━━━━━━\u001b[0m\u001b[37m\u001b[0m \u001b[1m1s\u001b[0m 2ms/step - loss: 4284675584.0000 - root_mean_squared_error: 65439.5859 - val_loss: 4223204096.0000 - val_root_mean_squared_error: 64986.1836\n",
      "Epoch 13/100\n",
      "\u001b[1m413/413\u001b[0m \u001b[32m━━━━━━━━━━━━━━━━━━━━\u001b[0m\u001b[37m\u001b[0m \u001b[1m1s\u001b[0m 3ms/step - loss: 4278604800.0000 - root_mean_squared_error: 65393.1992 - val_loss: 4218825984.0000 - val_root_mean_squared_error: 64952.4883\n",
      "Epoch 14/100\n",
      "\u001b[1m413/413\u001b[0m \u001b[32m━━━━━━━━━━━━━━━━━━━━\u001b[0m\u001b[37m\u001b[0m \u001b[1m1s\u001b[0m 2ms/step - loss: 4272740352.0000 - root_mean_squared_error: 65348.3672 - val_loss: 4214476544.0000 - val_root_mean_squared_error: 64919.0000\n",
      "Epoch 15/100\n",
      "\u001b[1m413/413\u001b[0m \u001b[32m━━━━━━━━━━━━━━━━━━━━\u001b[0m\u001b[37m\u001b[0m \u001b[1m1s\u001b[0m 2ms/step - loss: 4267059200.0000 - root_mean_squared_error: 65304.9062 - val_loss: 4210109440.0000 - val_root_mean_squared_error: 64885.3555\n",
      "Epoch 16/100\n",
      "\u001b[1m413/413\u001b[0m \u001b[32m━━━━━━━━━━━━━━━━━━━━\u001b[0m\u001b[37m\u001b[0m \u001b[1m1s\u001b[0m 2ms/step - loss: 4261445376.0000 - root_mean_squared_error: 65261.9219 - val_loss: 4205662464.0000 - val_root_mean_squared_error: 64851.0781\n",
      "Epoch 17/100\n",
      "\u001b[1m413/413\u001b[0m \u001b[32m━━━━━━━━━━━━━━━━━━━━\u001b[0m\u001b[37m\u001b[0m \u001b[1m1s\u001b[0m 2ms/step - loss: 4255949568.0000 - root_mean_squared_error: 65219.8203 - val_loss: 4201496064.0000 - val_root_mean_squared_error: 64818.9492\n",
      "Epoch 18/100\n",
      "\u001b[1m413/413\u001b[0m \u001b[32m━━━━━━━━━━━━━━━━━━━━\u001b[0m\u001b[37m\u001b[0m \u001b[1m1s\u001b[0m 2ms/step - loss: 4250581248.0000 - root_mean_squared_error: 65178.6680 - val_loss: 4196997632.0000 - val_root_mean_squared_error: 64784.2383\n",
      "Epoch 19/100\n",
      "\u001b[1m413/413\u001b[0m \u001b[32m━━━━━━━━━━━━━━━━━━━━\u001b[0m\u001b[37m\u001b[0m \u001b[1m1s\u001b[0m 2ms/step - loss: 4245257472.0000 - root_mean_squared_error: 65137.8242 - val_loss: 4192767744.0000 - val_root_mean_squared_error: 64751.5859\n",
      "Epoch 20/100\n",
      "\u001b[1m413/413\u001b[0m \u001b[32m━━━━━━━━━━━━━━━━━━━━\u001b[0m\u001b[37m\u001b[0m \u001b[1m1s\u001b[0m 2ms/step - loss: 4240003328.0000 - root_mean_squared_error: 65097.5039 - val_loss: 4188619264.0000 - val_root_mean_squared_error: 64719.5430\n",
      "Epoch 21/100\n",
      "\u001b[1m413/413\u001b[0m \u001b[32m━━━━━━━━━━━━━━━━━━━━\u001b[0m\u001b[37m\u001b[0m \u001b[1m1s\u001b[0m 2ms/step - loss: 4234837760.0000 - root_mean_squared_error: 65057.8320 - val_loss: 4184429568.0000 - val_root_mean_squared_error: 64687.1680\n",
      "Epoch 22/100\n",
      "\u001b[1m413/413\u001b[0m \u001b[32m━━━━━━━━━━━━━━━━━━━━\u001b[0m\u001b[37m\u001b[0m \u001b[1m1s\u001b[0m 2ms/step - loss: 4229767168.0000 - root_mean_squared_error: 65018.8633 - val_loss: 4180444928.0000 - val_root_mean_squared_error: 64656.3594\n",
      "Epoch 23/100\n",
      "\u001b[1m413/413\u001b[0m \u001b[32m━━━━━━━━━━━━━━━━━━━━\u001b[0m\u001b[37m\u001b[0m \u001b[1m1s\u001b[0m 2ms/step - loss: 4224740352.0000 - root_mean_squared_error: 64980.2070 - val_loss: 4176092416.0000 - val_root_mean_squared_error: 64622.6914\n",
      "Epoch 24/100\n",
      "\u001b[1m413/413\u001b[0m \u001b[32m━━━━━━━━━━━━━━━━━━━━\u001b[0m\u001b[37m\u001b[0m \u001b[1m1s\u001b[0m 2ms/step - loss: 4219726592.0000 - root_mean_squared_error: 64941.6172 - val_loss: 4172206848.0000 - val_root_mean_squared_error: 64592.6211\n",
      "Epoch 25/100\n",
      "\u001b[1m413/413\u001b[0m \u001b[32m━━━━━━━━━━━━━━━━━━━━\u001b[0m\u001b[37m\u001b[0m \u001b[1m1s\u001b[0m 2ms/step - loss: 4214816256.0000 - root_mean_squared_error: 64903.8008 - val_loss: 4168218112.0000 - val_root_mean_squared_error: 64561.7383\n",
      "Epoch 26/100\n",
      "\u001b[1m413/413\u001b[0m \u001b[32m━━━━━━━━━━━━━━━━━━━━\u001b[0m\u001b[37m\u001b[0m \u001b[1m1s\u001b[0m 2ms/step - loss: 4209943296.0000 - root_mean_squared_error: 64866.2461 - val_loss: 4164113152.0000 - val_root_mean_squared_error: 64529.9414\n",
      "Epoch 27/100\n",
      "\u001b[1m413/413\u001b[0m \u001b[32m━━━━━━━━━━━━━━━━━━━━\u001b[0m\u001b[37m\u001b[0m \u001b[1m1s\u001b[0m 2ms/step - loss: 4205001216.0000 - root_mean_squared_error: 64828.1289 - val_loss: 4160293888.0000 - val_root_mean_squared_error: 64500.3398\n",
      "Epoch 28/100\n",
      "\u001b[1m413/413\u001b[0m \u001b[32m━━━━━━━━━━━━━━━━━━━━\u001b[0m\u001b[37m\u001b[0m \u001b[1m1s\u001b[0m 2ms/step - loss: 4200069376.0000 - root_mean_squared_error: 64790.0703 - val_loss: 4156494848.0000 - val_root_mean_squared_error: 64470.8828\n",
      "Epoch 29/100\n",
      "\u001b[1m413/413\u001b[0m \u001b[32m━━━━━━━━━━━━━━━━━━━━\u001b[0m\u001b[37m\u001b[0m \u001b[1m1s\u001b[0m 2ms/step - loss: 4195226880.0000 - root_mean_squared_error: 64752.6758 - val_loss: 4152358144.0000 - val_root_mean_squared_error: 64438.7930\n",
      "Epoch 30/100\n",
      "\u001b[1m413/413\u001b[0m \u001b[32m━━━━━━━━━━━━━━━━━━━━\u001b[0m\u001b[37m\u001b[0m \u001b[1m1s\u001b[0m 2ms/step - loss: 4190532864.0000 - root_mean_squared_error: 64716.4023 - val_loss: 4148277248.0000 - val_root_mean_squared_error: 64407.1211\n",
      "Epoch 31/100\n",
      "\u001b[1m413/413\u001b[0m \u001b[32m━━━━━━━━━━━━━━━━━━━━\u001b[0m\u001b[37m\u001b[0m \u001b[1m1s\u001b[0m 2ms/step - loss: 4185820672.0000 - root_mean_squared_error: 64679.9648 - val_loss: 4144358912.0000 - val_root_mean_squared_error: 64376.6953\n",
      "Epoch 32/100\n",
      "\u001b[1m413/413\u001b[0m \u001b[32m━━━━━━━━━━━━━━━━━━━━\u001b[0m\u001b[37m\u001b[0m \u001b[1m1s\u001b[0m 2ms/step - loss: 4181180672.0000 - root_mean_squared_error: 64644.0664 - val_loss: 4140336128.0000 - val_root_mean_squared_error: 64345.4453\n",
      "Epoch 33/100\n",
      "\u001b[1m413/413\u001b[0m \u001b[32m━━━━━━━━━━━━━━━━━━━━\u001b[0m\u001b[37m\u001b[0m \u001b[1m1s\u001b[0m 2ms/step - loss: 4176508160.0000 - root_mean_squared_error: 64607.9023 - val_loss: 4136308736.0000 - val_root_mean_squared_error: 64314.1406\n",
      "Epoch 34/100\n",
      "\u001b[1m413/413\u001b[0m \u001b[32m━━━━━━━━━━━━━━━━━━━━\u001b[0m\u001b[37m\u001b[0m \u001b[1m1s\u001b[0m 2ms/step - loss: 4171898880.0000 - root_mean_squared_error: 64572.1953 - val_loss: 4132147200.0000 - val_root_mean_squared_error: 64281.7812\n",
      "Epoch 35/100\n",
      "\u001b[1m413/413\u001b[0m \u001b[32m━━━━━━━━━━━━━━━━━━━━\u001b[0m\u001b[37m\u001b[0m \u001b[1m1s\u001b[0m 2ms/step - loss: 4167228928.0000 - root_mean_squared_error: 64536.0000 - val_loss: 4128481536.0000 - val_root_mean_squared_error: 64253.2617\n",
      "Epoch 36/100\n",
      "\u001b[1m413/413\u001b[0m \u001b[32m━━━━━━━━━━━━━━━━━━━━\u001b[0m\u001b[37m\u001b[0m \u001b[1m1s\u001b[0m 2ms/step - loss: 4162627328.0000 - root_mean_squared_error: 64500.3164 - val_loss: 4123686912.0000 - val_root_mean_squared_error: 64215.9414\n",
      "Epoch 37/100\n",
      "\u001b[1m413/413\u001b[0m \u001b[32m━━━━━━━━━━━━━━━━━━━━\u001b[0m\u001b[37m\u001b[0m \u001b[1m1s\u001b[0m 2ms/step - loss: 4158003712.0000 - root_mean_squared_error: 64464.4219 - val_loss: 4119680512.0000 - val_root_mean_squared_error: 64184.7383\n",
      "Epoch 38/100\n",
      "\u001b[1m413/413\u001b[0m \u001b[32m━━━━━━━━━━━━━━━━━━━━\u001b[0m\u001b[37m\u001b[0m \u001b[1m1s\u001b[0m 2ms/step - loss: 4153207040.0000 - root_mean_squared_error: 64427.1680 - val_loss: 4115576576.0000 - val_root_mean_squared_error: 64152.7578\n",
      "Epoch 39/100\n",
      "\u001b[1m413/413\u001b[0m \u001b[32m━━━━━━━━━━━━━━━━━━━━\u001b[0m\u001b[37m\u001b[0m \u001b[1m1s\u001b[0m 2ms/step - loss: 4148448512.0000 - root_mean_squared_error: 64390.1914 - val_loss: 4111183616.0000 - val_root_mean_squared_error: 64118.5117\n",
      "Epoch 40/100\n",
      "\u001b[1m413/413\u001b[0m \u001b[32m━━━━━━━━━━━━━━━━━━━━\u001b[0m\u001b[37m\u001b[0m \u001b[1m1s\u001b[0m 2ms/step - loss: 4143695104.0000 - root_mean_squared_error: 64353.2227 - val_loss: 4107399424.0000 - val_root_mean_squared_error: 64088.9961\n",
      "Epoch 41/100\n",
      "\u001b[1m413/413\u001b[0m \u001b[32m━━━━━━━━━━━━━━━━━━━━\u001b[0m\u001b[37m\u001b[0m \u001b[1m1s\u001b[0m 2ms/step - loss: 4138830080.0000 - root_mean_squared_error: 64315.3594 - val_loss: 4102906368.0000 - val_root_mean_squared_error: 64053.9336\n",
      "Epoch 42/100\n",
      "\u001b[1m413/413\u001b[0m \u001b[32m━━━━━━━━━━━━━━━━━━━━\u001b[0m\u001b[37m\u001b[0m \u001b[1m1s\u001b[0m 2ms/step - loss: 4134076160.0000 - root_mean_squared_error: 64278.3359 - val_loss: 4098896384.0000 - val_root_mean_squared_error: 64022.6250\n",
      "Epoch 43/100\n",
      "\u001b[1m413/413\u001b[0m \u001b[32m━━━━━━━━━━━━━━━━━━━━\u001b[0m\u001b[37m\u001b[0m \u001b[1m1s\u001b[0m 2ms/step - loss: 4129218816.0000 - root_mean_squared_error: 64240.4844 - val_loss: 4094581760.0000 - val_root_mean_squared_error: 63988.9180\n",
      "Epoch 44/100\n",
      "\u001b[1m413/413\u001b[0m \u001b[32m━━━━━━━━━━━━━━━━━━━━\u001b[0m\u001b[37m\u001b[0m \u001b[1m1s\u001b[0m 2ms/step - loss: 4124369408.0000 - root_mean_squared_error: 64202.6719 - val_loss: 4090410496.0000 - val_root_mean_squared_error: 63956.3164\n",
      "Epoch 45/100\n",
      "\u001b[1m413/413\u001b[0m \u001b[32m━━━━━━━━━━━━━━━━━━━━\u001b[0m\u001b[37m\u001b[0m \u001b[1m1s\u001b[0m 2ms/step - loss: 4119593984.0000 - root_mean_squared_error: 64165.4062 - val_loss: 4085962496.0000 - val_root_mean_squared_error: 63921.5352\n",
      "Epoch 46/100\n",
      "\u001b[1m413/413\u001b[0m \u001b[32m━━━━━━━━━━━━━━━━━━━━\u001b[0m\u001b[37m\u001b[0m \u001b[1m1s\u001b[0m 2ms/step - loss: 4114620416.0000 - root_mean_squared_error: 64126.5625 - val_loss: 4081000448.0000 - val_root_mean_squared_error: 63882.7070\n",
      "Epoch 47/100\n",
      "\u001b[1m413/413\u001b[0m \u001b[32m━━━━━━━━━━━━━━━━━━━━\u001b[0m\u001b[37m\u001b[0m \u001b[1m1s\u001b[0m 2ms/step - loss: 4109504768.0000 - root_mean_squared_error: 64086.5742 - val_loss: 4077027328.0000 - val_root_mean_squared_error: 63851.6055\n",
      "Epoch 48/100\n",
      "\u001b[1m413/413\u001b[0m \u001b[32m━━━━━━━━━━━━━━━━━━━━\u001b[0m\u001b[37m\u001b[0m \u001b[1m1s\u001b[0m 2ms/step - loss: 4104409600.0000 - root_mean_squared_error: 64046.7305 - val_loss: 4072243712.0000 - val_root_mean_squared_error: 63814.1328\n",
      "Epoch 49/100\n",
      "\u001b[1m413/413\u001b[0m \u001b[32m━━━━━━━━━━━━━━━━━━━━\u001b[0m\u001b[37m\u001b[0m \u001b[1m1s\u001b[0m 2ms/step - loss: 4099153664.0000 - root_mean_squared_error: 64005.5938 - val_loss: 4067659520.0000 - val_root_mean_squared_error: 63778.2070\n",
      "Epoch 50/100\n",
      "\u001b[1m413/413\u001b[0m \u001b[32m━━━━━━━━━━━━━━━━━━━━\u001b[0m\u001b[37m\u001b[0m \u001b[1m1s\u001b[0m 2ms/step - loss: 4094058240.0000 - root_mean_squared_error: 63965.6914 - val_loss: 4062764800.0000 - val_root_mean_squared_error: 63739.8203\n",
      "Epoch 51/100\n",
      "\u001b[1m413/413\u001b[0m \u001b[32m━━━━━━━━━━━━━━━━━━━━\u001b[0m\u001b[37m\u001b[0m \u001b[1m1s\u001b[0m 2ms/step - loss: 4088803584.0000 - root_mean_squared_error: 63924.5234 - val_loss: 4057896960.0000 - val_root_mean_squared_error: 63701.6250\n",
      "Epoch 52/100\n",
      "\u001b[1m413/413\u001b[0m \u001b[32m━━━━━━━━━━━━━━━━━━━━\u001b[0m\u001b[37m\u001b[0m \u001b[1m1s\u001b[0m 2ms/step - loss: 4083494144.0000 - root_mean_squared_error: 63882.9102 - val_loss: 4053117952.0000 - val_root_mean_squared_error: 63664.1016\n",
      "Epoch 53/100\n",
      "\u001b[1m413/413\u001b[0m \u001b[32m━━━━━━━━━━━━━━━━━━━━\u001b[0m\u001b[37m\u001b[0m \u001b[1m1s\u001b[0m 2ms/step - loss: 4078064384.0000 - root_mean_squared_error: 63840.3242 - val_loss: 4047759360.0000 - val_root_mean_squared_error: 63622.0039\n",
      "Epoch 54/100\n",
      "\u001b[1m413/413\u001b[0m \u001b[32m━━━━━━━━━━━━━━━━━━━━\u001b[0m\u001b[37m\u001b[0m \u001b[1m1s\u001b[0m 2ms/step - loss: 4072457472.0000 - root_mean_squared_error: 63796.2930 - val_loss: 4042910976.0000 - val_root_mean_squared_error: 63583.8906\n",
      "Epoch 55/100\n",
      "\u001b[1m413/413\u001b[0m \u001b[32m━━━━━━━━━━━━━━━━━━━━\u001b[0m\u001b[37m\u001b[0m \u001b[1m1s\u001b[0m 2ms/step - loss: 4066918144.0000 - root_mean_squared_error: 63752.7695 - val_loss: 4038172928.0000 - val_root_mean_squared_error: 63546.6211\n",
      "Epoch 56/100\n",
      "\u001b[1m413/413\u001b[0m \u001b[32m━━━━━━━━━━━━━━━━━━━━\u001b[0m\u001b[37m\u001b[0m \u001b[1m1s\u001b[0m 2ms/step - loss: 4061395456.0000 - root_mean_squared_error: 63709.3516 - val_loss: 4032703232.0000 - val_root_mean_squared_error: 63503.5703\n",
      "Epoch 57/100\n",
      "\u001b[1m413/413\u001b[0m \u001b[32m━━━━━━━━━━━━━━━━━━━━\u001b[0m\u001b[37m\u001b[0m \u001b[1m1s\u001b[0m 2ms/step - loss: 4055788032.0000 - root_mean_squared_error: 63665.2344 - val_loss: 4027784192.0000 - val_root_mean_squared_error: 63464.8281\n",
      "Epoch 58/100\n",
      "\u001b[1m413/413\u001b[0m \u001b[32m━━━━━━━━━━━━━━━━━━━━\u001b[0m\u001b[37m\u001b[0m \u001b[1m1s\u001b[0m 2ms/step - loss: 4050245888.0000 - root_mean_squared_error: 63621.5742 - val_loss: 4022276608.0000 - val_root_mean_squared_error: 63421.4219\n",
      "Epoch 59/100\n",
      "\u001b[1m413/413\u001b[0m \u001b[32m━━━━━━━━━━━━━━━━━━━━\u001b[0m\u001b[37m\u001b[0m \u001b[1m1s\u001b[0m 2ms/step - loss: 4044593152.0000 - root_mean_squared_error: 63577.0078 - val_loss: 4016406016.0000 - val_root_mean_squared_error: 63375.1211\n",
      "Epoch 60/100\n",
      "\u001b[1m413/413\u001b[0m \u001b[32m━━━━━━━━━━━━━━━━━━━━\u001b[0m\u001b[37m\u001b[0m \u001b[1m1s\u001b[0m 2ms/step - loss: 4038699008.0000 - root_mean_squared_error: 63530.5234 - val_loss: 4011075584.0000 - val_root_mean_squared_error: 63333.0547\n",
      "Epoch 61/100\n",
      "\u001b[1m413/413\u001b[0m \u001b[32m━━━━━━━━━━━━━━━━━━━━\u001b[0m\u001b[37m\u001b[0m \u001b[1m1s\u001b[0m 2ms/step - loss: 4032891392.0000 - root_mean_squared_error: 63484.6758 - val_loss: 4005826304.0000 - val_root_mean_squared_error: 63291.5977\n",
      "Epoch 62/100\n",
      "\u001b[1m413/413\u001b[0m \u001b[32m━━━━━━━━━━━━━━━━━━━━\u001b[0m\u001b[37m\u001b[0m \u001b[1m1s\u001b[0m 2ms/step - loss: 4027134720.0000 - root_mean_squared_error: 63439.2070 - val_loss: 4000372736.0000 - val_root_mean_squared_error: 63248.5000\n",
      "Epoch 63/100\n",
      "\u001b[1m413/413\u001b[0m \u001b[32m━━━━━━━━━━━━━━━━━━━━\u001b[0m\u001b[37m\u001b[0m \u001b[1m1s\u001b[0m 2ms/step - loss: 4021368320.0000 - root_mean_squared_error: 63393.6211 - val_loss: 3995306752.0000 - val_root_mean_squared_error: 63208.4375\n",
      "Epoch 64/100\n",
      "\u001b[1m413/413\u001b[0m \u001b[32m━━━━━━━━━━━━━━━━━━━━\u001b[0m\u001b[37m\u001b[0m \u001b[1m1s\u001b[0m 2ms/step - loss: 4015722752.0000 - root_mean_squared_error: 63348.9531 - val_loss: 3989562112.0000 - val_root_mean_squared_error: 63162.9805\n",
      "Epoch 65/100\n",
      "\u001b[1m413/413\u001b[0m \u001b[32m━━━━━━━━━━━━━━━━━━━━\u001b[0m\u001b[37m\u001b[0m \u001b[1m1s\u001b[0m 2ms/step - loss: 4009998848.0000 - root_mean_squared_error: 63303.6289 - val_loss: 3983961600.0000 - val_root_mean_squared_error: 63118.6328\n",
      "Epoch 66/100\n",
      "\u001b[1m413/413\u001b[0m \u001b[32m━━━━━━━━━━━━━━━━━━━━\u001b[0m\u001b[37m\u001b[0m \u001b[1m1s\u001b[0m 2ms/step - loss: 4004019200.0000 - root_mean_squared_error: 63256.2305 - val_loss: 3978469120.0000 - val_root_mean_squared_error: 63075.1055\n",
      "Epoch 67/100\n",
      "\u001b[1m413/413\u001b[0m \u001b[32m━━━━━━━━━━━━━━━━━━━━\u001b[0m\u001b[37m\u001b[0m \u001b[1m1s\u001b[0m 2ms/step - loss: 3998071552.0000 - root_mean_squared_error: 63209.0508 - val_loss: 3972524544.0000 - val_root_mean_squared_error: 63027.9648\n",
      "Epoch 68/100\n",
      "\u001b[1m413/413\u001b[0m \u001b[32m━━━━━━━━━━━━━━━━━━━━\u001b[0m\u001b[37m\u001b[0m \u001b[1m1s\u001b[0m 2ms/step - loss: 3991786496.0000 - root_mean_squared_error: 63159.1562 - val_loss: 3966789376.0000 - val_root_mean_squared_error: 62982.4531\n",
      "Epoch 69/100\n",
      "\u001b[1m413/413\u001b[0m \u001b[32m━━━━━━━━━━━━━━━━━━━━\u001b[0m\u001b[37m\u001b[0m \u001b[1m1s\u001b[0m 2ms/step - loss: 3985615360.0000 - root_mean_squared_error: 63110.1094 - val_loss: 3960999424.0000 - val_root_mean_squared_error: 62936.4727\n",
      "Epoch 70/100\n",
      "\u001b[1m413/413\u001b[0m \u001b[32m━━━━━━━━━━━━━━━━━━━━\u001b[0m\u001b[37m\u001b[0m \u001b[1m1s\u001b[0m 2ms/step - loss: 3979466752.0000 - root_mean_squared_error: 63061.1914 - val_loss: 3954806784.0000 - val_root_mean_squared_error: 62887.2539\n",
      "Epoch 71/100\n",
      "\u001b[1m413/413\u001b[0m \u001b[32m━━━━━━━━━━━━━━━━━━━━\u001b[0m\u001b[37m\u001b[0m \u001b[1m1s\u001b[0m 2ms/step - loss: 3972827904.0000 - root_mean_squared_error: 63008.3516 - val_loss: 3948509184.0000 - val_root_mean_squared_error: 62837.1641\n",
      "Epoch 72/100\n",
      "\u001b[1m413/413\u001b[0m \u001b[32m━━━━━━━━━━━━━━━━━━━━\u001b[0m\u001b[37m\u001b[0m \u001b[1m1s\u001b[0m 2ms/step - loss: 3965917952.0000 - root_mean_squared_error: 62953.3438 - val_loss: 3941934080.0000 - val_root_mean_squared_error: 62784.8242\n",
      "Epoch 73/100\n",
      "\u001b[1m413/413\u001b[0m \u001b[32m━━━━━━━━━━━━━━━━━━━━\u001b[0m\u001b[37m\u001b[0m \u001b[1m1s\u001b[0m 2ms/step - loss: 3958980608.0000 - root_mean_squared_error: 62898.0547 - val_loss: 3935496192.0000 - val_root_mean_squared_error: 62733.5352\n",
      "Epoch 74/100\n",
      "\u001b[1m413/413\u001b[0m \u001b[32m━━━━━━━━━━━━━━━━━━━━\u001b[0m\u001b[37m\u001b[0m \u001b[1m1s\u001b[0m 2ms/step - loss: 3951884544.0000 - root_mean_squared_error: 62841.4453 - val_loss: 3928615424.0000 - val_root_mean_squared_error: 62678.6680\n",
      "Epoch 75/100\n",
      "\u001b[1m413/413\u001b[0m \u001b[32m━━━━━━━━━━━━━━━━━━━━\u001b[0m\u001b[37m\u001b[0m \u001b[1m1s\u001b[0m 2ms/step - loss: 3944371456.0000 - root_mean_squared_error: 62781.5000 - val_loss: 3921708288.0000 - val_root_mean_squared_error: 62623.5430\n",
      "Epoch 76/100\n",
      "\u001b[1m413/413\u001b[0m \u001b[32m━━━━━━━━━━━━━━━━━━━━\u001b[0m\u001b[37m\u001b[0m \u001b[1m1s\u001b[0m 2ms/step - loss: 3936768000.0000 - root_mean_squared_error: 62720.7930 - val_loss: 3914883840.0000 - val_root_mean_squared_error: 62569.0312\n",
      "Epoch 77/100\n",
      "\u001b[1m413/413\u001b[0m \u001b[32m━━━━━━━━━━━━━━━━━━━━\u001b[0m\u001b[37m\u001b[0m \u001b[1m1s\u001b[0m 2ms/step - loss: 3929040384.0000 - root_mean_squared_error: 62659.0312 - val_loss: 3907219968.0000 - val_root_mean_squared_error: 62507.7578\n",
      "Epoch 78/100\n",
      "\u001b[1m413/413\u001b[0m \u001b[32m━━━━━━━━━━━━━━━━━━━━\u001b[0m\u001b[37m\u001b[0m \u001b[1m1s\u001b[0m 2ms/step - loss: 3921372672.0000 - root_mean_squared_error: 62597.6953 - val_loss: 3900384000.0000 - val_root_mean_squared_error: 62453.0547\n",
      "Epoch 79/100\n",
      "\u001b[1m413/413\u001b[0m \u001b[32m━━━━━━━━━━━━━━━━━━━━\u001b[0m\u001b[37m\u001b[0m \u001b[1m1s\u001b[0m 2ms/step - loss: 3913433600.0000 - root_mean_squared_error: 62534.1523 - val_loss: 3893376256.0000 - val_root_mean_squared_error: 62396.9258\n",
      "Epoch 80/100\n",
      "\u001b[1m413/413\u001b[0m \u001b[32m━━━━━━━━━━━━━━━━━━━━\u001b[0m\u001b[37m\u001b[0m \u001b[1m1s\u001b[0m 2ms/step - loss: 3906030080.0000 - root_mean_squared_error: 62474.7930 - val_loss: 3886307072.0000 - val_root_mean_squared_error: 62340.2539\n",
      "Epoch 81/100\n",
      "\u001b[1m413/413\u001b[0m \u001b[32m━━━━━━━━━━━━━━━━━━━━\u001b[0m\u001b[37m\u001b[0m \u001b[1m1s\u001b[0m 2ms/step - loss: 3898672128.0000 - root_mean_squared_error: 62415.6914 - val_loss: 3879452672.0000 - val_root_mean_squared_error: 62285.2539\n",
      "Epoch 82/100\n",
      "\u001b[1m413/413\u001b[0m \u001b[32m━━━━━━━━━━━━━━━━━━━━\u001b[0m\u001b[37m\u001b[0m \u001b[1m1s\u001b[0m 2ms/step - loss: 3891401984.0000 - root_mean_squared_error: 62357.2891 - val_loss: 3872958720.0000 - val_root_mean_squared_error: 62233.1016\n",
      "Epoch 83/100\n",
      "\u001b[1m413/413\u001b[0m \u001b[32m━━━━━━━━━━━━━━━━━━━━\u001b[0m\u001b[37m\u001b[0m \u001b[1m1s\u001b[0m 2ms/step - loss: 3884468736.0000 - root_mean_squared_error: 62301.4922 - val_loss: 3866125824.0000 - val_root_mean_squared_error: 62178.1797\n",
      "Epoch 84/100\n",
      "\u001b[1m413/413\u001b[0m \u001b[32m━━━━━━━━━━━━━━━━━━━━\u001b[0m\u001b[37m\u001b[0m \u001b[1m1s\u001b[0m 2ms/step - loss: 3877392640.0000 - root_mean_squared_error: 62244.5391 - val_loss: 3859567616.0000 - val_root_mean_squared_error: 62125.4180\n",
      "Epoch 85/100\n",
      "\u001b[1m413/413\u001b[0m \u001b[32m━━━━━━━━━━━━━━━━━━━━\u001b[0m\u001b[37m\u001b[0m \u001b[1m1s\u001b[0m 2ms/step - loss: 3870433536.0000 - root_mean_squared_error: 62188.4805 - val_loss: 3852990720.0000 - val_root_mean_squared_error: 62072.4648\n",
      "Epoch 86/100\n",
      "\u001b[1m413/413\u001b[0m \u001b[32m━━━━━━━━━━━━━━━━━━━━\u001b[0m\u001b[37m\u001b[0m \u001b[1m1s\u001b[0m 2ms/step - loss: 3863452416.0000 - root_mean_squared_error: 62132.2148 - val_loss: 3846452992.0000 - val_root_mean_squared_error: 62019.7773\n",
      "Epoch 87/100\n",
      "\u001b[1m413/413\u001b[0m \u001b[32m━━━━━━━━━━━━━━━━━━━━\u001b[0m\u001b[37m\u001b[0m \u001b[1m1s\u001b[0m 2ms/step - loss: 3856806144.0000 - root_mean_squared_error: 62078.5781 - val_loss: 3840291584.0000 - val_root_mean_squared_error: 61970.0859\n",
      "Epoch 88/100\n",
      "\u001b[1m413/413\u001b[0m \u001b[32m━━━━━━━━━━━━━━━━━━━━\u001b[0m\u001b[37m\u001b[0m \u001b[1m1s\u001b[0m 2ms/step - loss: 3850300928.0000 - root_mean_squared_error: 62026.0234 - val_loss: 3834913792.0000 - val_root_mean_squared_error: 61926.6797\n",
      "Epoch 89/100\n",
      "\u001b[1m413/413\u001b[0m \u001b[32m━━━━━━━━━━━━━━━━━━━━\u001b[0m\u001b[37m\u001b[0m \u001b[1m1s\u001b[0m 2ms/step - loss: 3844015872.0000 - root_mean_squared_error: 61975.1758 - val_loss: 3829261056.0000 - val_root_mean_squared_error: 61881.0234\n",
      "Epoch 90/100\n",
      "\u001b[1m413/413\u001b[0m \u001b[32m━━━━━━━━━━━━━━━━━━━━\u001b[0m\u001b[37m\u001b[0m \u001b[1m1s\u001b[0m 2ms/step - loss: 3837802240.0000 - root_mean_squared_error: 61924.8555 - val_loss: 3823691520.0000 - val_root_mean_squared_error: 61836.0039\n",
      "Epoch 91/100\n",
      "\u001b[1m413/413\u001b[0m \u001b[32m━━━━━━━━━━━━━━━━━━━━\u001b[0m\u001b[37m\u001b[0m \u001b[1m1s\u001b[0m 2ms/step - loss: 3831642368.0000 - root_mean_squared_error: 61874.9336 - val_loss: 3818188800.0000 - val_root_mean_squared_error: 61791.4961\n",
      "Epoch 92/100\n",
      "\u001b[1m413/413\u001b[0m \u001b[32m━━━━━━━━━━━━━━━━━━━━\u001b[0m\u001b[37m\u001b[0m \u001b[1m1s\u001b[0m 2ms/step - loss: 3825266176.0000 - root_mean_squared_error: 61823.2617 - val_loss: 3812901120.0000 - val_root_mean_squared_error: 61748.6914\n",
      "Epoch 93/100\n",
      "\u001b[1m413/413\u001b[0m \u001b[32m━━━━━━━━━━━━━━━━━━━━\u001b[0m\u001b[37m\u001b[0m \u001b[1m1s\u001b[0m 2ms/step - loss: 3818990592.0000 - root_mean_squared_error: 61772.3438 - val_loss: 3807856896.0000 - val_root_mean_squared_error: 61707.8359\n",
      "Epoch 94/100\n",
      "\u001b[1m413/413\u001b[0m \u001b[32m━━━━━━━━━━━━━━━━━━━━\u001b[0m\u001b[37m\u001b[0m \u001b[1m1s\u001b[0m 2ms/step - loss: 3812881664.0000 - root_mean_squared_error: 61722.7461 - val_loss: 3803456000.0000 - val_root_mean_squared_error: 61672.1641\n",
      "Epoch 95/100\n",
      "\u001b[1m413/413\u001b[0m \u001b[32m━━━━━━━━━━━━━━━━━━━━\u001b[0m\u001b[37m\u001b[0m \u001b[1m1s\u001b[0m 2ms/step - loss: 3807136256.0000 - root_mean_squared_error: 61676.0000 - val_loss: 3798564608.0000 - val_root_mean_squared_error: 61632.4961\n",
      "Epoch 96/100\n",
      "\u001b[1m413/413\u001b[0m \u001b[32m━━━━━━━━━━━━━━━━━━━━\u001b[0m\u001b[37m\u001b[0m \u001b[1m1s\u001b[0m 2ms/step - loss: 3801411072.0000 - root_mean_squared_error: 61629.4102 - val_loss: 3794161920.0000 - val_root_mean_squared_error: 61596.7695\n",
      "Epoch 97/100\n",
      "\u001b[1m413/413\u001b[0m \u001b[32m━━━━━━━━━━━━━━━━━━━━\u001b[0m\u001b[37m\u001b[0m \u001b[1m1s\u001b[0m 2ms/step - loss: 3795554816.0000 - root_mean_squared_error: 61581.7656 - val_loss: 3789696768.0000 - val_root_mean_squared_error: 61560.5117\n",
      "Epoch 98/100\n",
      "\u001b[1m413/413\u001b[0m \u001b[32m━━━━━━━━━━━━━━━━━━━━\u001b[0m\u001b[37m\u001b[0m \u001b[1m1s\u001b[0m 2ms/step - loss: 3789820160.0000 - root_mean_squared_error: 61535.0312 - val_loss: 3785039104.0000 - val_root_mean_squared_error: 61522.6719\n",
      "Epoch 99/100\n",
      "\u001b[1m413/413\u001b[0m \u001b[32m━━━━━━━━━━━━━━━━━━━━\u001b[0m\u001b[37m\u001b[0m \u001b[1m1s\u001b[0m 2ms/step - loss: 3784017408.0000 - root_mean_squared_error: 61487.7617 - val_loss: 3781287680.0000 - val_root_mean_squared_error: 61492.1758\n",
      "Epoch 100/100\n",
      "\u001b[1m413/413\u001b[0m \u001b[32m━━━━━━━━━━━━━━━━━━━━\u001b[0m\u001b[37m\u001b[0m \u001b[1m1s\u001b[0m 2ms/step - loss: 3778707200.0000 - root_mean_squared_error: 61444.3945 - val_loss: 3777204480.0000 - val_root_mean_squared_error: 61458.9648\n"
     ]
    }
   ],
   "source": [
    "history = model.fit(X_train, y_train, epochs=100, validation_split=.2, )"
   ]
  },
  {
   "cell_type": "code",
   "execution_count": 53,
   "id": "8b7dc104-7073-4296-a023-e286d31d7460",
   "metadata": {},
   "outputs": [
    {
     "data": {
      "text/plain": [
       "dict_keys(['loss', 'root_mean_squared_error', 'val_loss', 'val_root_mean_squared_error'])"
      ]
     },
     "execution_count": 53,
     "metadata": {},
     "output_type": "execute_result"
    }
   ],
   "source": [
    "history.history.keys()"
   ]
  },
  {
   "cell_type": "code",
   "execution_count": 72,
   "id": "a7ebc4a7-c9f7-4067-9b5e-844512999b59",
   "metadata": {},
   "outputs": [
    {
     "data": {
      "image/png": "[encoded data removed]",
      "text/plain": [
       "<Figure size 640x480 with 1 Axes>"
      ]
     },
     "metadata": {},
     "output_type": "display_data"
    }
   ],
   "source": [
    "plt.plot(history.history[\"loss\"], 'r-')\n",
    "plt.plot(history.history['val_loss'], 'b-.')\n",
    "plt.show()"
   ]
  },
  {
   "cell_type": "code",
   "execution_count": 71,
   "id": "6d4e9408-3983-44c6-a8db-9f9ac089d98c",
   "metadata": {},
   "outputs": [
    {
     "data": {
      "image/png": "[encoded data removed]",
      "text/plain": [
       "<Figure size 640x480 with 1 Axes>"
      ]
     },
     "metadata": {},
     "output_type": "display_data"
    }
   ],
   "source": [
    "plt.plot(history.history[\"root_mean_squared_error\"], 'r-')\n",
    "plt.plot(history.history[\"val_root_mean_squared_error\"], 'b-.')\n",
    "plt.show()"
   ]
  },
  {
   "cell_type": "code",
   "execution_count": null,
   "id": "077f3134-42ad-4496-b45f-e9a42514ec9c",
   "metadata": {},
   "outputs": [],
   "source": []
  }
 ],
 "metadata": {
  "kernelspec": {
   "display_name": "Python 3 (ipykernel)",
   "language": "python",
   "name": "python3"
  },
  "language_info": {
   "codemirror_mode": {
    "name": "ipython",
    "version": 3
   },
   "file_extension": ".py",
   "mimetype": "text/x-python",
   "name": "python",
   "nbconvert_exporter": "python",
   "pygments_lexer": "ipython3",
   "version": "3.10.14"
  }
 },
 "nbformat": 4,
 "nbformat_minor": 5
}
