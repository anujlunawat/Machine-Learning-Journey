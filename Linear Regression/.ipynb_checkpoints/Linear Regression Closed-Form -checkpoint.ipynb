{
 "cells": [
  {
   "cell_type": "code",
   "execution_count": 34,
   "id": "dc29d24c-179b-4a2b-b134-f02b31844c65",
   "metadata": {},
   "outputs": [],
   "source": [
    "import pandas as pd\n",
    "import numpy as np\n",
    "from sklearn.preprocessing import add_dummy_feature\n",
    "from sklearn.model_selection import train_test_split\n",
    "import matplotlib.pyplot as plt\n",
    "from sklearn.metrics import mean_absolute_error, mean_squared_error, r2_score"
   ]
  },
  {
   "cell_type": "code",
   "execution_count": 3,
   "id": "d75c039d-c2be-4d59-b9ac-8da4b5480577",
   "metadata": {},
   "outputs": [],
   "source": [
    "np.random.seed(42)\n",
    "n = 100 # number of instances\n",
    "X = 2 * np.random.rand(n, 1) # column vector\n",
    "\n",
    "# we will define slope and intercept\n",
    "slope = 3\n",
    "intercept = 4\n",
    "y = intercept + slope * X + np.random.randn(n, 1) # column vector\n",
    "# np.random.randn(n, 1) adds noise to the data\n",
    "# The noise is added to simulate real-world imperfections in data"
   ]
  },
  {
   "cell_type": "code",
   "execution_count": 7,
   "id": "bfabcbf0-6968-46d7-acdd-1f56cbb11e50",
   "metadata": {},
   "outputs": [],
   "source": [
    "X_train, X_test, y_train, y_test = train_test_split(X, y, train_size=0.8, random_state=42)"
   ]
  },
  {
   "cell_type": "code",
   "execution_count": 36,
   "id": "c135d8e5-9e2d-41e2-b133-c641df44ffd7",
   "metadata": {},
   "outputs": [],
   "source": [
    "def regression_report(y_true, y_pred):\n",
    "    errors = y_true - y_pred\n",
    "    mae = np.mean(np.abs(errors))\n",
    "    mse = np.mean(errors**2)\n",
    "    rmse = np.sqrt(mse)\n",
    "    r2 = 1 - (np.sum((y_true - y_pred)**2) / np.sum((y_true - np.mean(y_true))**2))\n",
    "    return {'MAE': mae, 'MSE': mse, 'RMSE': rmse, 'R2': r2}"
   ]
  },
  {
   "cell_type": "code",
   "execution_count": 4,
   "id": "f0845008-cc8a-4fd4-89b8-d2796fe049b7",
   "metadata": {},
   "outputs": [],
   "source": [
    "class LinearRegressionMeanCentered:\n",
    "    '''\n",
    "    Mean-centered approach\n",
    "    b = mean(y) - m * mean(x)\n",
    "    m (Slope) = summ((yi - mean(y)) * (xi - mean(x))) / summ(xi - mean(x))\n",
    "    '''\n",
    "    def __init__(self):\n",
    "        pass\n",
    "    def calc_X_mean(self):\n",
    "        self.X_mean = np.mean(self.X)\n",
    "    def calc_y_mean(self):\n",
    "        self.y_mean = np.mean(self.y)\n",
    "    def calc_m(self):\n",
    "        num = np.sum([(Xi - self.X_mean)*(yi - self.y_mean) for Xi, yi in zip(self.X, self.y)])\n",
    "        deno = np.sum([(Xi - self.X_mean)**2 for Xi in self.X])\n",
    "        self.m = num / deno\n",
    "    def calc_b(self):\n",
    "        self.b = self.y_mean - (self.m * self.X_mean)\n",
    "    def fit(self, X, y):\n",
    "        if len(X) != len(y): raise ValueError(\"X and y must be the same length\")\n",
    "        self.X = X\n",
    "        self.y = y\n",
    "        self.n = len(X)\n",
    "        self.calc_X_mean()\n",
    "        self.calc_y_mean()\n",
    "        self.calc_m()\n",
    "        self.calc_b()\n",
    "\n",
    "    def predict(self, X_test):\n",
    "        return [(self.m * x + self.b) for x in X_test]"
   ]
  },
  {
   "cell_type": "code",
   "execution_count": 9,
   "id": "d5379cd3-bfcb-42d9-9fb7-cc1e18ed5e14",
   "metadata": {},
   "outputs": [],
   "source": [
    "lr_mean_model = LinearRegressionMeanCentered()\n",
    "lr_mean_model.fit(X_train, y_train)"
   ]
  },
  {
   "cell_type": "code",
   "execution_count": 24,
   "id": "ffb06e2c-86db-4219-a1cc-2fe5a7d38d96",
   "metadata": {},
   "outputs": [],
   "source": [
    "y_pred1 = lr_mean_model.predict(X_test)"
   ]
  },
  {
   "cell_type": "code",
   "execution_count": 25,
   "id": "7bc46bec-33a6-423f-9467-c856aed6c049",
   "metadata": {},
   "outputs": [
    {
     "data": {
      "text/plain": [
       "(4.142913319458568, 2.799323657480275)"
      ]
     },
     "execution_count": 25,
     "metadata": {},
     "output_type": "execute_result"
    }
   ],
   "source": [
    "# we find the intercept(b) and the slope(m) calculated by LinearRegressionMeanCentered() is a little off than the intercept(=4) and slope(=3) we had defined above\n",
    "# this is due to the noise in the data we added using np.random.randn(n, 1)\n",
    "# if we were to remove the noise, these numbers (of intercept and slope calculted by our class) would match the numbers above (what we defined/assigned)\n",
    "lr_mean_model.b, lr_mean_model.m"
   ]
  },
  {
   "cell_type": "code",
   "execution_count": 37,
   "id": "7764d04d-b975-4034-a073-8cbe26de61f6",
   "metadata": {},
   "outputs": [
    {
     "data": {
      "text/plain": [
       "{'MAE': 0.5913425779189774,\n",
       " 'MSE': 0.6536995137170021,\n",
       " 'RMSE': 0.8085168605026132,\n",
       " 'R2': 0.8072059636181392}"
      ]
     },
     "execution_count": 37,
     "metadata": {},
     "output_type": "execute_result"
    }
   ],
   "source": [
    "regression_report(y_test, y_pred1)"
   ]
  },
  {
   "cell_type": "code",
   "execution_count": 26,
   "id": "f7a7c260-2f9b-46de-9a89-c6301704f544",
   "metadata": {
    "scrolled": true
   },
   "outputs": [
    {
     "data": {
      "image/png": "[encoded data removed]",
      "text/plain": [
       "<Figure size 640x480 with 1 Axes>"
      ]
     },
     "metadata": {},
     "output_type": "display_data"
    }
   ],
   "source": [
    "plt.scatter(X_train, y_train, color=\"blue\")\n",
    "plt.plot(X_test, y_pred1, color=\"red\")\n",
    "plt.xlabel(\"X-label\")\n",
    "plt.ylabel(\"Y-label\")\n",
    "plt.show()"
   ]
  },
  {
   "cell_type": "code",
   "execution_count": 18,
   "id": "cdffa980-c468-4125-bee9-efb423875c4a",
   "metadata": {},
   "outputs": [],
   "source": [
    "class LinearRegressionNormalForm:\n",
    "    '''\n",
    "    This follow the normal equation approach\n",
    "    The equation for predicted y value (,here) is:\n",
    "    pred_y = X*θ\n",
    "    where θ -> parameter vector (weights and intercept)\n",
    "        θ0 is the intercept\n",
    "        θ1, θ2, θ3...θn are the weights\n",
    "    '''\n",
    "    def __init__(self):\n",
    "        pass\n",
    "    def fit(self, X, y):\n",
    "        # we add a column containing 1s at the start of X\n",
    "        # So when we find the dot product of X and θ:\n",
    "        #     θ0 gets multiplies to 1 and we get the intercept as it is (correct)\n",
    "        #     the others, θ1, θ2, θ3..., are the weights and get multiplied with the values in X\n",
    "        X = add_dummy_feature(X)\n",
    "        self.theta = np.linalg.inv(X.T @ X) @ X.T @ y\n",
    "    def predict(self, X):\n",
    "        X = add_dummy_feature(X)\n",
    "        return X @ self.theta"
   ]
  },
  {
   "cell_type": "code",
   "execution_count": 20,
   "id": "3d43cba6-bd50-4fb0-a9db-588e33fe9cdb",
   "metadata": {},
   "outputs": [],
   "source": [
    "lr_normal_form = LinearRegressionNormalForm()\n",
    "lr_normal_form.fit(X_train, y_train)"
   ]
  },
  {
   "cell_type": "code",
   "execution_count": 27,
   "id": "fdd4bd74-4239-4e6c-a97b-c8344f22e95b",
   "metadata": {},
   "outputs": [],
   "source": [
    "y_pred2 = lr_normal_form.predict(X_test)"
   ]
  },
  {
   "cell_type": "code",
   "execution_count": 28,
   "id": "12d2543f-9b40-4a9f-8b00-3aaf373a0088",
   "metadata": {},
   "outputs": [
    {
     "data": {
      "text/plain": [
       "array([[4.14291332],\n",
       "       [2.79932366]])"
      ]
     },
     "execution_count": 28,
     "metadata": {},
     "output_type": "execute_result"
    }
   ],
   "source": [
    "# when we have a look at theta(θ), we observe that the first value is the intercept and the rest of the values (1, in our case as we had a sinlge input feature) are weights\n",
    "# as we had a single input feature, there is just one value apart from the intercept\n",
    "# this is the slope value\n",
    "lr_normal_form.theta"
   ]
  },
  {
   "cell_type": "code",
   "execution_count": 38,
   "id": "f8cc91f4-cc87-4b7b-829d-1d1ac64adfa0",
   "metadata": {},
   "outputs": [
    {
     "data": {
      "text/plain": [
       "{'MAE': 0.5913425779189769,\n",
       " 'MSE': 0.6536995137170015,\n",
       " 'RMSE': 0.8085168605026128,\n",
       " 'R2': 0.8072059636181393}"
      ]
     },
     "execution_count": 38,
     "metadata": {},
     "output_type": "execute_result"
    }
   ],
   "source": [
    "regression_report(y_test, y_pred2)"
   ]
  },
  {
   "cell_type": "code",
   "execution_count": 30,
   "id": "74efef74-7ece-4f5d-bdf2-35b302b0ad2c",
   "metadata": {},
   "outputs": [
    {
     "data": {
      "image/png": "[encoded data removed]",
      "text/plain": [
       "<Figure size 640x480 with 1 Axes>"
      ]
     },
     "metadata": {},
     "output_type": "display_data"
    }
   ],
   "source": [
    "plt.scatter(X_train, y_train, color=\"blue\")\n",
    "plt.plot(X_test, y_pred2, color=\"red\")\n",
    "plt.xlabel(\"X-label\")\n",
    "plt.ylabel(\"Y-label\")\n",
    "plt.show()"
   ]
  }
 ],
 "metadata": {
  "kernelspec": {
   "display_name": "Python 3 (ipykernel)",
   "language": "python",
   "name": "python3"
  },
  "language_info": {
   "codemirror_mode": {
    "name": "ipython",
    "version": 3
   },
   "file_extension": ".py",
   "mimetype": "text/x-python",
   "name": "python",
   "nbconvert_exporter": "python",
   "pygments_lexer": "ipython3",
   "version": "3.10.14"
  }
 },
 "nbformat": 4,
 "nbformat_minor": 5
}
